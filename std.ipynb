{
 "cells": [
  {
   "cell_type": "code",
   "execution_count": 167,
   "id": "a3259993",
   "metadata": {},
   "outputs": [],
   "source": [
    "!pip -q install transformers accelerate datasets scikit-learn torch pandas numpy"
   ]
  },
  {
   "cell_type": "code",
   "execution_count": 168,
   "id": "008b157b",
   "metadata": {},
   "outputs": [],
   "source": [
    "import pandas as pd\n",
    "import numpy as np\n",
    "import torch\n",
    "import random\n",
    "from datasets import Dataset\n",
    "from transformers import (\n",
    "    AutoTokenizer, \n",
    "    AutoModelForSequenceClassification, \n",
    "    Trainer,\n",
    "    TrainingArguments\n",
    ")\n",
    "from sklearn.metrics import accuracy_score, f1_score, mean_squared_error"
   ]
  },
  {
   "cell_type": "code",
   "execution_count": 169,
   "id": "363818eb",
   "metadata": {},
   "outputs": [],
   "source": [
    "en_train_file = 'datasets/final/mpfc_train.csv'\n",
    "fil_test_file = 'datasets/final/fil_test.csv'\n",
    "en_test_file = 'datasets/final/mpfc_test.csv'"
   ]
  },
  {
   "cell_type": "code",
   "execution_count": 170,
   "id": "6cc41d3c",
   "metadata": {},
   "outputs": [],
   "source": [
    "# === Load CSVs ===\n",
    "en_train_df = pd.read_csv(en_train_file)\n",
    "fil_test_df = pd.read_csv(fil_test_file)\n",
    "en_test_df = pd.read_csv(en_test_file)"
   ]
  },
  {
   "cell_type": "code",
   "execution_count": 171,
   "id": "8bc2a8db",
   "metadata": {},
   "outputs": [],
   "source": [
    "# === Ensure labels are ints ===\n",
    "en_train_df['label'] = en_train_df['label'].astype(int)\n",
    "fil_test_df['label'] = fil_test_df['label'].astype(int)\n",
    "en_test_df['label'] = en_test_df['label'].astype(int)"
   ]
  },
  {
   "cell_type": "code",
   "execution_count": 172,
   "id": "adbf28af",
   "metadata": {},
   "outputs": [
    {
     "data": {
      "text/html": [
       "<div>\n",
       "<style scoped>\n",
       "    .dataframe tbody tr th:only-of-type {\n",
       "        vertical-align: middle;\n",
       "    }\n",
       "\n",
       "    .dataframe tbody tr th {\n",
       "        vertical-align: top;\n",
       "    }\n",
       "\n",
       "    .dataframe thead th {\n",
       "        text-align: right;\n",
       "    }\n",
       "</style>\n",
       "<table border=\"1\" class=\"dataframe\">\n",
       "  <thead>\n",
       "    <tr style=\"text-align: right;\">\n",
       "      <th></th>\n",
       "      <th>text</th>\n",
       "      <th>code_frames</th>\n",
       "      <th>label</th>\n",
       "    </tr>\n",
       "  </thead>\n",
       "  <tbody>\n",
       "    <tr>\n",
       "      <th>0</th>\n",
       "      <td>Senator Sherwin Gatchalian filed a civil lawsu...</td>\n",
       "      <td>7</td>\n",
       "      <td>6</td>\n",
       "    </tr>\n",
       "    <tr>\n",
       "      <th>1</th>\n",
       "      <td>AVOID COLLATERAL DAMAGE FROM NRA'S CAMPAIGN</td>\n",
       "      <td>15</td>\n",
       "      <td>14</td>\n",
       "    </tr>\n",
       "    <tr>\n",
       "      <th>2</th>\n",
       "      <td>MANILA – Human immunodeficiency virus (HIV) in...</td>\n",
       "      <td>9</td>\n",
       "      <td>8</td>\n",
       "    </tr>\n",
       "    <tr>\n",
       "      <th>3</th>\n",
       "      <td>MANILA, Philippines – President Ferdinand Marc...</td>\n",
       "      <td>2</td>\n",
       "      <td>1</td>\n",
       "    </tr>\n",
       "    <tr>\n",
       "      <th>4</th>\n",
       "      <td>Japanese Embassy in PH thanks DOJ over deporta...</td>\n",
       "      <td>14</td>\n",
       "      <td>13</td>\n",
       "    </tr>\n",
       "    <tr>\n",
       "      <th>...</th>\n",
       "      <td>...</td>\n",
       "      <td>...</td>\n",
       "      <td>...</td>\n",
       "    </tr>\n",
       "    <tr>\n",
       "      <th>19995</th>\n",
       "      <td>MANILA – President Ferdinand R. Marcos Jr. on ...</td>\n",
       "      <td>2</td>\n",
       "      <td>1</td>\n",
       "    </tr>\n",
       "    <tr>\n",
       "      <th>19996</th>\n",
       "      <td>Do you have a question on the news - local, na...</td>\n",
       "      <td>12</td>\n",
       "      <td>11</td>\n",
       "    </tr>\n",
       "    <tr>\n",
       "      <th>19997</th>\n",
       "      <td>Davao Oriental 2nd district Rep. Cheeno Almari...</td>\n",
       "      <td>13</td>\n",
       "      <td>12</td>\n",
       "    </tr>\n",
       "    <tr>\n",
       "      <th>19998</th>\n",
       "      <td>The Philippine government is eyeing to deport ...</td>\n",
       "      <td>7</td>\n",
       "      <td>6</td>\n",
       "    </tr>\n",
       "    <tr>\n",
       "      <th>19999</th>\n",
       "      <td>devastating scores of families and the town th...</td>\n",
       "      <td>10</td>\n",
       "      <td>9</td>\n",
       "    </tr>\n",
       "  </tbody>\n",
       "</table>\n",
       "<p>20000 rows × 3 columns</p>\n",
       "</div>"
      ],
      "text/plain": [
       "                                                    text  code_frames  label\n",
       "0      Senator Sherwin Gatchalian filed a civil lawsu...            7      6\n",
       "1            AVOID COLLATERAL DAMAGE FROM NRA'S CAMPAIGN           15     14\n",
       "2      MANILA – Human immunodeficiency virus (HIV) in...            9      8\n",
       "3      MANILA, Philippines – President Ferdinand Marc...            2      1\n",
       "4      Japanese Embassy in PH thanks DOJ over deporta...           14     13\n",
       "...                                                  ...          ...    ...\n",
       "19995  MANILA – President Ferdinand R. Marcos Jr. on ...            2      1\n",
       "19996  Do you have a question on the news - local, na...           12     11\n",
       "19997  Davao Oriental 2nd district Rep. Cheeno Almari...           13     12\n",
       "19998  The Philippine government is eyeing to deport ...            7      6\n",
       "19999  devastating scores of families and the town th...           10      9\n",
       "\n",
       "[20000 rows x 3 columns]"
      ]
     },
     "execution_count": 172,
     "metadata": {},
     "output_type": "execute_result"
    }
   ],
   "source": [
    "en_train_df"
   ]
  },
  {
   "cell_type": "code",
   "execution_count": 173,
   "id": "acec512d",
   "metadata": {},
   "outputs": [
    {
     "data": {
      "text/html": [
       "<div>\n",
       "<style scoped>\n",
       "    .dataframe tbody tr th:only-of-type {\n",
       "        vertical-align: middle;\n",
       "    }\n",
       "\n",
       "    .dataframe tbody tr th {\n",
       "        vertical-align: top;\n",
       "    }\n",
       "\n",
       "    .dataframe thead th {\n",
       "        text-align: right;\n",
       "    }\n",
       "</style>\n",
       "<table border=\"1\" class=\"dataframe\">\n",
       "  <thead>\n",
       "    <tr style=\"text-align: right;\">\n",
       "      <th></th>\n",
       "      <th>text</th>\n",
       "      <th>code_frames</th>\n",
       "      <th>label</th>\n",
       "    </tr>\n",
       "  </thead>\n",
       "  <tbody>\n",
       "    <tr>\n",
       "      <th>0</th>\n",
       "      <td>Isang umano’y tinaguriang ‘shabu queen’ at lid...</td>\n",
       "      <td>7</td>\n",
       "      <td>6</td>\n",
       "    </tr>\n",
       "    <tr>\n",
       "      <th>1</th>\n",
       "      <td>Anthrax infection kumalat sa Cagayan</td>\n",
       "      <td>9</td>\n",
       "      <td>8</td>\n",
       "    </tr>\n",
       "    <tr>\n",
       "      <th>2</th>\n",
       "      <td>TESDA: Mga tech-voc graduate swak sa trabaho</td>\n",
       "      <td>10</td>\n",
       "      <td>9</td>\n",
       "    </tr>\n",
       "    <tr>\n",
       "      <th>3</th>\n",
       "      <td>Nagkamit ng unang pwesto ang isang Filipina st...</td>\n",
       "      <td>15</td>\n",
       "      <td>14</td>\n",
       "    </tr>\n",
       "    <tr>\n",
       "      <th>4</th>\n",
       "      <td>NEDA inaprub tapyas taripa sa e-vehicle</td>\n",
       "      <td>6</td>\n",
       "      <td>5</td>\n",
       "    </tr>\n",
       "    <tr>\n",
       "      <th>...</th>\n",
       "      <td>...</td>\n",
       "      <td>...</td>\n",
       "      <td>...</td>\n",
       "    </tr>\n",
       "    <tr>\n",
       "      <th>4979</th>\n",
       "      <td>Typhoon Betty, patuloy na humihina sa karagata...</td>\n",
       "      <td>9</td>\n",
       "      <td>8</td>\n",
       "    </tr>\n",
       "    <tr>\n",
       "      <th>4980</th>\n",
       "      <td>'Sarap maging tatay!' Post ng netizen tungkol ...</td>\n",
       "      <td>11</td>\n",
       "      <td>10</td>\n",
       "    </tr>\n",
       "    <tr>\n",
       "      <th>4981</th>\n",
       "      <td>TESDA, maglulunsad ng training programs para s...</td>\n",
       "      <td>2</td>\n",
       "      <td>1</td>\n",
       "    </tr>\n",
       "    <tr>\n",
       "      <th>4982</th>\n",
       "      <td>Anne Curtis, nagdiwang ng kaarawan sa ‘It’s Sh...</td>\n",
       "      <td>15</td>\n",
       "      <td>14</td>\n",
       "    </tr>\n",
       "    <tr>\n",
       "      <th>4983</th>\n",
       "      <td>Kamakailan lamang ay ibinida ng social media p...</td>\n",
       "      <td>15</td>\n",
       "      <td>14</td>\n",
       "    </tr>\n",
       "  </tbody>\n",
       "</table>\n",
       "<p>4984 rows × 3 columns</p>\n",
       "</div>"
      ],
      "text/plain": [
       "                                                   text  code_frames  label\n",
       "0     Isang umano’y tinaguriang ‘shabu queen’ at lid...            7      6\n",
       "1                  Anthrax infection kumalat sa Cagayan            9      8\n",
       "2          TESDA: Mga tech-voc graduate swak sa trabaho           10      9\n",
       "3     Nagkamit ng unang pwesto ang isang Filipina st...           15     14\n",
       "4               NEDA inaprub tapyas taripa sa e-vehicle            6      5\n",
       "...                                                 ...          ...    ...\n",
       "4979  Typhoon Betty, patuloy na humihina sa karagata...            9      8\n",
       "4980  'Sarap maging tatay!' Post ng netizen tungkol ...           11     10\n",
       "4981  TESDA, maglulunsad ng training programs para s...            2      1\n",
       "4982  Anne Curtis, nagdiwang ng kaarawan sa ‘It’s Sh...           15     14\n",
       "4983  Kamakailan lamang ay ibinida ng social media p...           15     14\n",
       "\n",
       "[4984 rows x 3 columns]"
      ]
     },
     "execution_count": 173,
     "metadata": {},
     "output_type": "execute_result"
    }
   ],
   "source": [
    "fil_test_df"
   ]
  },
  {
   "cell_type": "code",
   "execution_count": 174,
   "id": "a79873b2",
   "metadata": {},
   "outputs": [
    {
     "data": {
      "text/html": [
       "<div>\n",
       "<style scoped>\n",
       "    .dataframe tbody tr th:only-of-type {\n",
       "        vertical-align: middle;\n",
       "    }\n",
       "\n",
       "    .dataframe tbody tr th {\n",
       "        vertical-align: top;\n",
       "    }\n",
       "\n",
       "    .dataframe thead th {\n",
       "        text-align: right;\n",
       "    }\n",
       "</style>\n",
       "<table border=\"1\" class=\"dataframe\">\n",
       "  <thead>\n",
       "    <tr style=\"text-align: right;\">\n",
       "      <th></th>\n",
       "      <th>text</th>\n",
       "      <th>code_frames</th>\n",
       "      <th>label</th>\n",
       "    </tr>\n",
       "  </thead>\n",
       "  <tbody>\n",
       "    <tr>\n",
       "      <th>0</th>\n",
       "      <td>Physical distancing in classrooms may be eased...</td>\n",
       "      <td>10</td>\n",
       "      <td>9</td>\n",
       "    </tr>\n",
       "    <tr>\n",
       "      <th>1</th>\n",
       "      <td>Bishop took on sensitive social issues\\r\\n</td>\n",
       "      <td>3</td>\n",
       "      <td>2</td>\n",
       "    </tr>\n",
       "    <tr>\n",
       "      <th>2</th>\n",
       "      <td>MANILA – President Ferdinand R. Marcos Jr. has...</td>\n",
       "      <td>14</td>\n",
       "      <td>13</td>\n",
       "    </tr>\n",
       "    <tr>\n",
       "      <th>3</th>\n",
       "      <td>Florida voters strongly support an increase in...</td>\n",
       "      <td>12</td>\n",
       "      <td>11</td>\n",
       "    </tr>\n",
       "    <tr>\n",
       "      <th>4</th>\n",
       "      <td>The Supreme Court had approved new state death...</td>\n",
       "      <td>5</td>\n",
       "      <td>4</td>\n",
       "    </tr>\n",
       "    <tr>\n",
       "      <th>...</th>\n",
       "      <td>...</td>\n",
       "      <td>...</td>\n",
       "      <td>...</td>\n",
       "    </tr>\n",
       "    <tr>\n",
       "      <th>4995</th>\n",
       "      <td>Telemachus 'Tel' Orfanos, 27, survived mass sh...</td>\n",
       "      <td>10</td>\n",
       "      <td>9</td>\n",
       "    </tr>\n",
       "    <tr>\n",
       "      <th>4996</th>\n",
       "      <td>\"Open Carry Picnic\" -- a mix of a typical outd...</td>\n",
       "      <td>12</td>\n",
       "      <td>11</td>\n",
       "    </tr>\n",
       "    <tr>\n",
       "      <th>4997</th>\n",
       "      <td>ASEAN first: Philippine presidents and their s...</td>\n",
       "      <td>13</td>\n",
       "      <td>12</td>\n",
       "    </tr>\n",
       "    <tr>\n",
       "      <th>4998</th>\n",
       "      <td>The Bureau of Immigration (BI) has stopped ano...</td>\n",
       "      <td>7</td>\n",
       "      <td>6</td>\n",
       "    </tr>\n",
       "    <tr>\n",
       "      <th>4999</th>\n",
       "      <td>MANILA, Philippines – The Philippines is still...</td>\n",
       "      <td>13</td>\n",
       "      <td>12</td>\n",
       "    </tr>\n",
       "  </tbody>\n",
       "</table>\n",
       "<p>5000 rows × 3 columns</p>\n",
       "</div>"
      ],
      "text/plain": [
       "                                                   text  code_frames  label\n",
       "0     Physical distancing in classrooms may be eased...           10      9\n",
       "1            Bishop took on sensitive social issues\\r\\n            3      2\n",
       "2     MANILA – President Ferdinand R. Marcos Jr. has...           14     13\n",
       "3     Florida voters strongly support an increase in...           12     11\n",
       "4     The Supreme Court had approved new state death...            5      4\n",
       "...                                                 ...          ...    ...\n",
       "4995  Telemachus 'Tel' Orfanos, 27, survived mass sh...           10      9\n",
       "4996  \"Open Carry Picnic\" -- a mix of a typical outd...           12     11\n",
       "4997  ASEAN first: Philippine presidents and their s...           13     12\n",
       "4998  The Bureau of Immigration (BI) has stopped ano...            7      6\n",
       "4999  MANILA, Philippines – The Philippines is still...           13     12\n",
       "\n",
       "[5000 rows x 3 columns]"
      ]
     },
     "execution_count": 174,
     "metadata": {},
     "output_type": "execute_result"
    }
   ],
   "source": [
    "en_test_df"
   ]
  },
  {
   "cell_type": "code",
   "execution_count": 201,
   "id": "0aa4b08d",
   "metadata": {},
   "outputs": [],
   "source": [
    "# === CONFIGURATION ===\n",
    "\n",
    "# Choose model: 'bert-base-multilingual-cased' or 'xlm-roberta-base'\n",
    "model_name = 'xlm-roberta-base'\n",
    "\n",
    "# Training hyperparameters\n",
    "num_labels = 15\n",
    "max_length = 128\n",
    "learning_rate = 2e-5\n",
    "train_batch_size = 32\n",
    "eval_batch_size = 32\n",
    "num_epochs = 3\n",
    "weight_decay = 0.01"
   ]
  },
  {
   "cell_type": "code",
   "execution_count": 200,
   "id": "fa3e7c6e",
   "metadata": {},
   "outputs": [],
   "source": [
    "def set_seed(seed):\n",
    "    random.seed(seed)\n",
    "    np.random.seed(seed)\n",
    "    torch.manual_seed(seed)\n",
    "    torch.cuda.manual_seed_all(seed)\n",
    "    torch.backends.cudnn.deterministic = True\n",
    "    torch.backends.cudnn.benchmark = False\n",
    "\n",
    "set_seed(42)  # Or whatever seed you choose\n"
   ]
  },
  {
   "cell_type": "code",
   "execution_count": 202,
   "id": "7154d2a7",
   "metadata": {},
   "outputs": [],
   "source": [
    "# === Convert to Hugging Face datasets ===\n",
    "en_train_ds = Dataset.from_pandas(en_train_df)\n",
    "val_fil_ds = Dataset.from_pandas(fil_test_df)\n",
    "val_en_ds = Dataset.from_pandas(en_test_df)"
   ]
  },
  {
   "cell_type": "code",
   "execution_count": 203,
   "id": "204a6409",
   "metadata": {},
   "outputs": [],
   "source": [
    "# === Tokenizer ===\n",
    "tokenizer = AutoTokenizer.from_pretrained(model_name)"
   ]
  },
  {
   "cell_type": "code",
   "execution_count": 204,
   "id": "5e5e2909",
   "metadata": {},
   "outputs": [
    {
     "name": "stderr",
     "output_type": "stream",
     "text": [
      "Map: 100%|██████████| 20000/20000 [00:00<00:00, 30514.85 examples/s]\n",
      "Map: 100%|██████████| 4984/4984 [00:00<00:00, 28429.42 examples/s]\n",
      "Map: 100%|██████████| 5000/5000 [00:00<00:00, 30863.12 examples/s]\n"
     ]
    }
   ],
   "source": [
    "def preprocess(example):\n",
    "    return tokenizer(\n",
    "        example['text'],\n",
    "        padding='max_length',\n",
    "        truncation=True,\n",
    "        max_length=max_length\n",
    "    )\n",
    "\n",
    "en_train_ds = en_train_ds.map(preprocess, batched=True)\n",
    "val_fil_ds = val_fil_ds.map(preprocess, batched=True)\n",
    "val_en_ds = val_en_ds.map(preprocess, batched=True)"
   ]
  },
  {
   "cell_type": "code",
   "execution_count": 205,
   "id": "0ba6c620",
   "metadata": {},
   "outputs": [
    {
     "name": "stderr",
     "output_type": "stream",
     "text": [
      "Some weights of XLMRobertaForSequenceClassification were not initialized from the model checkpoint at xlm-roberta-base and are newly initialized: ['classifier.dense.bias', 'classifier.dense.weight', 'classifier.out_proj.bias', 'classifier.out_proj.weight']\n",
      "You should probably TRAIN this model on a down-stream task to be able to use it for predictions and inference.\n"
     ]
    }
   ],
   "source": [
    "# === Load model ===\n",
    "model = AutoModelForSequenceClassification.from_pretrained(model_name, num_labels=num_labels)"
   ]
  },
  {
   "cell_type": "code",
   "execution_count": 206,
   "id": "6a3ed6b6",
   "metadata": {},
   "outputs": [],
   "source": [
    "# === Compute metrics using sklearn ===\n",
    "def compute_metrics(eval_pred):\n",
    "    logits, labels = eval_pred\n",
    "    preds = torch.argmax(torch.tensor(logits), dim=-1).numpy()\n",
    "    labels = np.array(labels)\n",
    "\n",
    "    return {\n",
    "        'accuracy': accuracy_score(labels, preds),\n",
    "        'f1': f1_score(labels, preds, average='weighted'),\n",
    "        'rmse': np.sqrt(mean_squared_error(labels, preds))\n",
    "    }"
   ]
  },
  {
   "cell_type": "code",
   "execution_count": 207,
   "id": "c76bc358",
   "metadata": {},
   "outputs": [],
   "source": [
    "output_dir = f\"results/std/{model_name.replace('/', '_')}\""
   ]
  },
  {
   "cell_type": "code",
   "execution_count": 209,
   "id": "51674594",
   "metadata": {},
   "outputs": [],
   "source": [
    "# === Training arguments ===\n",
    "training_args = TrainingArguments(\n",
    "    output_dir=output_dir,\n",
    "    eval_strategy='epoch',            \n",
    "    save_strategy='epoch',\n",
    "    logging_strategy='epoch',\n",
    "    learning_rate=learning_rate,\n",
    "    per_device_train_batch_size=train_batch_size,\n",
    "    per_device_eval_batch_size=eval_batch_size,\n",
    "    num_train_epochs=num_epochs,\n",
    "    weight_decay=weight_decay,\n",
    "    load_best_model_at_end=True,\n",
    "    metric_for_best_model='f1',\n",
    "    greater_is_better=True,\n",
    "    save_total_limit=1,\n",
    "    report_to='none',\n",
    "    seed=42,\n",
    ")"
   ]
  },
  {
   "cell_type": "code",
   "execution_count": 210,
   "id": "66b0c96a",
   "metadata": {},
   "outputs": [
    {
     "name": "stderr",
     "output_type": "stream",
     "text": [
      "C:\\Users\\User\\AppData\\Local\\Temp\\ipykernel_6136\\215179977.py:2: FutureWarning: `tokenizer` is deprecated and will be removed in version 5.0.0 for `Trainer.__init__`. Use `processing_class` instead.\n",
      "  trainer = Trainer(\n"
     ]
    }
   ],
   "source": [
    "# === Trainer ===\n",
    "trainer = Trainer(\n",
    "    model=model,\n",
    "    args=training_args,\n",
    "    train_dataset=en_train_ds,\n",
    "    eval_dataset=val_fil_ds,\n",
    "    tokenizer=tokenizer,\n",
    "    compute_metrics=compute_metrics\n",
    ")"
   ]
  },
  {
   "cell_type": "markdown",
   "id": "8729178f",
   "metadata": {},
   "source": [
    "## **Standard Fine-tuning**"
   ]
  },
  {
   "cell_type": "markdown",
   "id": "3cecbdc1",
   "metadata": {},
   "source": [
    "### mBERT"
   ]
  },
  {
   "cell_type": "code",
   "execution_count": 185,
   "id": "b4ee8aa2",
   "metadata": {},
   "outputs": [
    {
     "data": {
      "text/html": [
       "\n",
       "    <div>\n",
       "      \n",
       "      <progress value='1875' max='1875' style='width:300px; height:20px; vertical-align: middle;'></progress>\n",
       "      [1875/1875 2:39:45, Epoch 3/3]\n",
       "    </div>\n",
       "    <table border=\"1\" class=\"dataframe\">\n",
       "  <thead>\n",
       " <tr style=\"text-align: left;\">\n",
       "      <th>Epoch</th>\n",
       "      <th>Training Loss</th>\n",
       "      <th>Validation Loss</th>\n",
       "      <th>Accuracy</th>\n",
       "      <th>F1</th>\n",
       "      <th>Rmse</th>\n",
       "    </tr>\n",
       "  </thead>\n",
       "  <tbody>\n",
       "    <tr>\n",
       "      <td>1</td>\n",
       "      <td>1.623100</td>\n",
       "      <td>1.836078</td>\n",
       "      <td>0.434791</td>\n",
       "      <td>0.444250</td>\n",
       "      <td>4.435375</td>\n",
       "    </tr>\n",
       "    <tr>\n",
       "      <td>2</td>\n",
       "      <td>1.008200</td>\n",
       "      <td>1.965006</td>\n",
       "      <td>0.421148</td>\n",
       "      <td>0.439205</td>\n",
       "      <td>4.353164</td>\n",
       "    </tr>\n",
       "    <tr>\n",
       "      <td>3</td>\n",
       "      <td>0.759900</td>\n",
       "      <td>1.953064</td>\n",
       "      <td>0.441011</td>\n",
       "      <td>0.458741</td>\n",
       "      <td>4.232366</td>\n",
       "    </tr>\n",
       "  </tbody>\n",
       "</table><p>"
      ],
      "text/plain": [
       "<IPython.core.display.HTML object>"
      ]
     },
     "metadata": {},
     "output_type": "display_data"
    },
    {
     "data": {
      "text/plain": [
       "TrainOutput(global_step=1875, training_loss=1.130421923828125, metrics={'train_runtime': 9589.9918, 'train_samples_per_second': 6.257, 'train_steps_per_second': 0.196, 'total_flos': 3947126492160000.0, 'train_loss': 1.130421923828125, 'epoch': 3.0})"
      ]
     },
     "execution_count": 185,
     "metadata": {},
     "output_type": "execute_result"
    }
   ],
   "source": [
    "trainer.train()"
   ]
  },
  {
   "cell_type": "code",
   "execution_count": 188,
   "id": "f2070bf9",
   "metadata": {},
   "outputs": [
    {
     "data": {
      "text/html": [
       "\n",
       "    <div>\n",
       "      \n",
       "      <progress value='313' max='157' style='width:300px; height:20px; vertical-align: middle;'></progress>\n",
       "      [157/157 07:45]\n",
       "    </div>\n",
       "    "
      ],
      "text/plain": [
       "<IPython.core.display.HTML object>"
      ]
     },
     "metadata": {},
     "output_type": "display_data"
    },
    {
     "name": "stdout",
     "output_type": "stream",
     "text": [
      "Final Evaluation on English Validation Set\n",
      "Accuracy : 0.6906\n",
      "F1 Score : 0.6895\n",
      "RMSE     : 3.4218\n"
     ]
    }
   ],
   "source": [
    "# === Final evaluation on English ===\n",
    "final_en_metrics = trainer.evaluate(eval_dataset=val_en_ds)\n",
    "\n",
    "print('Final Evaluation on English Validation Set')\n",
    "print(f\"Accuracy : {final_en_metrics['eval_accuracy']:.4f}\")\n",
    "print(f\"F1 Score : {final_en_metrics['eval_f1']:.4f}\")\n",
    "print(f\"RMSE     : {final_en_metrics['eval_rmse']:.4f}\")\n",
    "\n"
   ]
  },
  {
   "cell_type": "code",
   "execution_count": 189,
   "id": "6c2ddf2b",
   "metadata": {},
   "outputs": [
    {
     "name": "stdout",
     "output_type": "stream",
     "text": [
      "Final Evaluation on Filipino Validation Set\n",
      "Accuracy : 0.4410\n",
      "F1 Score : 0.4587\n",
      "RMSE     : 4.2324\n"
     ]
    }
   ],
   "source": [
    "# === Final evaluation on Filipino ===\n",
    "final_fil_metrics = trainer.evaluate(eval_dataset=val_fil_ds)\n",
    "\n",
    "print('Final Evaluation on Filipino Validation Set')\n",
    "print(f\"Accuracy : {final_fil_metrics['eval_accuracy']:.4f}\")\n",
    "print(f\"F1 Score : {final_fil_metrics['eval_f1']:.4f}\")\n",
    "print(f\"RMSE     : {final_fil_metrics['eval_rmse']:.4f}\")\n"
   ]
  },
  {
   "cell_type": "markdown",
   "id": "9b73e4c4",
   "metadata": {},
   "source": [
    "### XLM-RoBERTa"
   ]
  },
  {
   "cell_type": "code",
   "execution_count": 211,
   "id": "4af542b1",
   "metadata": {},
   "outputs": [
    {
     "data": {
      "text/html": [
       "\n",
       "    <div>\n",
       "      \n",
       "      <progress value='1875' max='1875' style='width:300px; height:20px; vertical-align: middle;'></progress>\n",
       "      [1875/1875 2:52:53, Epoch 3/3]\n",
       "    </div>\n",
       "    <table border=\"1\" class=\"dataframe\">\n",
       "  <thead>\n",
       " <tr style=\"text-align: left;\">\n",
       "      <th>Epoch</th>\n",
       "      <th>Training Loss</th>\n",
       "      <th>Validation Loss</th>\n",
       "      <th>Accuracy</th>\n",
       "      <th>F1</th>\n",
       "      <th>Rmse</th>\n",
       "    </tr>\n",
       "  </thead>\n",
       "  <tbody>\n",
       "    <tr>\n",
       "      <td>1</td>\n",
       "      <td>1.671500</td>\n",
       "      <td>1.798217</td>\n",
       "      <td>0.442817</td>\n",
       "      <td>0.445454</td>\n",
       "      <td>4.006816</td>\n",
       "    </tr>\n",
       "    <tr>\n",
       "      <td>2</td>\n",
       "      <td>1.037300</td>\n",
       "      <td>1.813685</td>\n",
       "      <td>0.461878</td>\n",
       "      <td>0.471468</td>\n",
       "      <td>3.837228</td>\n",
       "    </tr>\n",
       "    <tr>\n",
       "      <td>3</td>\n",
       "      <td>0.828200</td>\n",
       "      <td>1.788131</td>\n",
       "      <td>0.472311</td>\n",
       "      <td>0.481530</td>\n",
       "      <td>3.831629</td>\n",
       "    </tr>\n",
       "  </tbody>\n",
       "</table><p>"
      ],
      "text/plain": [
       "<IPython.core.display.HTML object>"
      ]
     },
     "metadata": {},
     "output_type": "display_data"
    },
    {
     "data": {
      "text/plain": [
       "TrainOutput(global_step=1875, training_loss=1.1789679361979166, metrics={'train_runtime': 10380.328, 'train_samples_per_second': 5.78, 'train_steps_per_second': 0.181, 'total_flos': 3947126492160000.0, 'train_loss': 1.1789679361979166, 'epoch': 3.0})"
      ]
     },
     "execution_count": 211,
     "metadata": {},
     "output_type": "execute_result"
    }
   ],
   "source": [
    "trainer.train()"
   ]
  },
  {
   "cell_type": "code",
   "execution_count": 212,
   "id": "68499e42",
   "metadata": {},
   "outputs": [
    {
     "data": {
      "text/html": [
       "\n",
       "    <div>\n",
       "      \n",
       "      <progress value='313' max='157' style='width:300px; height:20px; vertical-align: middle;'></progress>\n",
       "      [157/157 24:30]\n",
       "    </div>\n",
       "    "
      ],
      "text/plain": [
       "<IPython.core.display.HTML object>"
      ]
     },
     "metadata": {},
     "output_type": "display_data"
    },
    {
     "name": "stdout",
     "output_type": "stream",
     "text": [
      "Final Evaluation on English Validation Set\n",
      "Accuracy : 0.7040\n",
      "F1 Score : 0.7018\n",
      "RMSE     : 3.2117\n"
     ]
    }
   ],
   "source": [
    "# === Final evaluation on English ===\n",
    "final_en_metrics = trainer.evaluate(eval_dataset=val_en_ds)\n",
    "\n",
    "print('Final Evaluation on English Validation Set')\n",
    "print(f\"Accuracy : {final_en_metrics['eval_accuracy']:.4f}\")\n",
    "print(f\"F1 Score : {final_en_metrics['eval_f1']:.4f}\")\n",
    "print(f\"RMSE     : {final_en_metrics['eval_rmse']:.4f}\")"
   ]
  },
  {
   "cell_type": "code",
   "execution_count": 213,
   "id": "da3e5652",
   "metadata": {},
   "outputs": [
    {
     "name": "stdout",
     "output_type": "stream",
     "text": [
      "Final Evaluation on Filipino Validation Set\n",
      "Accuracy : 0.4723\n",
      "F1 Score : 0.4815\n",
      "RMSE     : 3.8316\n"
     ]
    }
   ],
   "source": [
    "# === Final evaluation on Filipino ===\n",
    "final_fil_metrics = trainer.evaluate(eval_dataset=val_fil_ds)\n",
    "\n",
    "print('Final Evaluation on Filipino Validation Set')\n",
    "print(f\"Accuracy : {final_fil_metrics['eval_accuracy']:.4f}\")\n",
    "print(f\"F1 Score : {final_fil_metrics['eval_f1']:.4f}\")\n",
    "print(f\"RMSE     : {final_fil_metrics['eval_rmse']:.4f}\")"
   ]
  },
  {
   "cell_type": "markdown",
   "id": "c0637b5a",
   "metadata": {},
   "source": [
    "## **save predictions**"
   ]
  },
  {
   "cell_type": "code",
   "execution_count": null,
   "id": "c7a83e4b",
   "metadata": {},
   "outputs": [],
   "source": [
    "# === Predict on Filipino set using best model ===\n",
    "fil_preds_output = trainer.predict(val_fil_ds)\n",
    "logits = fil_preds_output.predictions\n",
    "fil_preds = torch.argmax(torch.tensor(logits), dim=-1).numpy()"
   ]
  },
  {
   "cell_type": "code",
   "execution_count": null,
   "id": "3e440c19",
   "metadata": {},
   "outputs": [],
   "source": [
    "# === Attach predictions to original Filipino DataFrame ===\n",
    "fil_test_df['predicted_label'] = fil_preds\n",
    "fil_test_df['correct'] = fil_test_df['label'] == fil_test_df['predicted_label']\n",
    "fil_test_df.head()"
   ]
  },
  {
   "cell_type": "code",
   "execution_count": null,
   "id": "dfe3bbfb",
   "metadata": {},
   "outputs": [],
   "source": [
    "# === Save to CSV for inspection ===\n",
    "fil_test_df.to_csv('dataset/fil_predictions.csv', index=False)"
   ]
  }
 ],
 "metadata": {
  "kernelspec": {
   "display_name": ".venv",
   "language": "python",
   "name": "python3"
  },
  "language_info": {
   "codemirror_mode": {
    "name": "ipython",
    "version": 3
   },
   "file_extension": ".py",
   "mimetype": "text/x-python",
   "name": "python",
   "nbconvert_exporter": "python",
   "pygments_lexer": "ipython3",
   "version": "3.11.0"
  }
 },
 "nbformat": 4,
 "nbformat_minor": 5
}
