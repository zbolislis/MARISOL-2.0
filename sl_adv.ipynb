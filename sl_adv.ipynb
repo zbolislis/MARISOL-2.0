{
 "cells": [
  {
   "cell_type": "markdown",
   "id": "0cde2b41",
   "metadata": {},
   "source": [
    "## **Importing Resources**"
   ]
  },
  {
   "cell_type": "code",
   "execution_count": 61,
   "id": "c51f39fe",
   "metadata": {},
   "outputs": [
    {
     "name": "stderr",
     "output_type": "stream",
     "text": [
      "\n",
      "[notice] A new release of pip is available: 25.0.1 -> 25.1.1\n",
      "[notice] To update, run: python.exe -m pip install --upgrade pip\n"
     ]
    }
   ],
   "source": [
    "!pip -q install transformers accelerate datasets scikit-learn torch pandas numpy"
   ]
  },
  {
   "cell_type": "code",
   "execution_count": null,
   "id": "ae195f3a",
   "metadata": {},
   "outputs": [],
   "source": [
    "import pandas as pd\n",
    "import numpy as np\n",
    "import torch\n",
    "import torch.nn.functional as F\n",
    "import random\n",
    "from datasets import Dataset\n",
    "from transformers import (\n",
    "    AutoTokenizer,\n",
    "    AutoModelForSequenceClassification,\n",
    "    Trainer,\n",
    "    TrainingArguments\n",
    ")\n",
    "from sklearn.metrics import accuracy_score, f1_score, mean_squared_error\n",
    "from sklearn.metrics import classification_report"
   ]
  },
  {
   "cell_type": "markdown",
   "id": "c6aba672",
   "metadata": {},
   "source": [
    "## **Loading Datasets**"
   ]
  },
  {
   "cell_type": "code",
   "execution_count": null,
   "id": "021be7ee",
   "metadata": {},
   "outputs": [],
   "source": [
    "en_train_file = 'datasets/final/mpfc_train.csv'\n",
    "en_test_file = 'datasets/final/mpfc_test.csv'\n",
    "fil_train_file = 'datasets/final/fil_train.csv'\n",
    "fil_test_file = 'datasets/final/fil_test.csv'"
   ]
  },
  {
   "cell_type": "code",
   "execution_count": null,
   "id": "b5cfc827",
   "metadata": {},
   "outputs": [],
   "source": [
    "en_train_df = pd.read_csv(en_train_file)\n",
    "en_test_df = pd.read_csv(en_test_file)\n",
    "fil_train_df = pd.read_csv(fil_train_file)\n",
    "fil_test_df = pd.read_csv(fil_test_file)"
   ]
  },
  {
   "cell_type": "code",
   "execution_count": null,
   "id": "f1275b20",
   "metadata": {},
   "outputs": [],
   "source": [
    "en_train_df['label'] = en_train_df['label'].astype(int)\n",
    "fil_test_df['label'] = fil_test_df['label'].astype(int)\n",
    "en_test_df['label'] = en_test_df['label'].astype(int)"
   ]
  },
  {
   "cell_type": "code",
   "execution_count": 66,
   "id": "117cf4f5",
   "metadata": {},
   "outputs": [
    {
     "data": {
      "text/html": [
       "<div>\n",
       "<style scoped>\n",
       "    .dataframe tbody tr th:only-of-type {\n",
       "        vertical-align: middle;\n",
       "    }\n",
       "\n",
       "    .dataframe tbody tr th {\n",
       "        vertical-align: top;\n",
       "    }\n",
       "\n",
       "    .dataframe thead th {\n",
       "        text-align: right;\n",
       "    }\n",
       "</style>\n",
       "<table border=\"1\" class=\"dataframe\">\n",
       "  <thead>\n",
       "    <tr style=\"text-align: right;\">\n",
       "      <th></th>\n",
       "      <th>text</th>\n",
       "      <th>code_frames</th>\n",
       "      <th>label</th>\n",
       "    </tr>\n",
       "  </thead>\n",
       "  <tbody>\n",
       "    <tr>\n",
       "      <th>0</th>\n",
       "      <td>Senator Sherwin Gatchalian filed a civil lawsu...</td>\n",
       "      <td>7</td>\n",
       "      <td>6</td>\n",
       "    </tr>\n",
       "    <tr>\n",
       "      <th>1</th>\n",
       "      <td>AVOID COLLATERAL DAMAGE FROM NRA'S CAMPAIGN</td>\n",
       "      <td>15</td>\n",
       "      <td>14</td>\n",
       "    </tr>\n",
       "    <tr>\n",
       "      <th>2</th>\n",
       "      <td>MANILA – Human immunodeficiency virus (HIV) in...</td>\n",
       "      <td>9</td>\n",
       "      <td>8</td>\n",
       "    </tr>\n",
       "    <tr>\n",
       "      <th>3</th>\n",
       "      <td>MANILA, Philippines – President Ferdinand Marc...</td>\n",
       "      <td>2</td>\n",
       "      <td>1</td>\n",
       "    </tr>\n",
       "    <tr>\n",
       "      <th>4</th>\n",
       "      <td>Japanese Embassy in PH thanks DOJ over deporta...</td>\n",
       "      <td>14</td>\n",
       "      <td>13</td>\n",
       "    </tr>\n",
       "    <tr>\n",
       "      <th>...</th>\n",
       "      <td>...</td>\n",
       "      <td>...</td>\n",
       "      <td>...</td>\n",
       "    </tr>\n",
       "    <tr>\n",
       "      <th>19995</th>\n",
       "      <td>MANILA – President Ferdinand R. Marcos Jr. on ...</td>\n",
       "      <td>2</td>\n",
       "      <td>1</td>\n",
       "    </tr>\n",
       "    <tr>\n",
       "      <th>19996</th>\n",
       "      <td>Do you have a question on the news - local, na...</td>\n",
       "      <td>12</td>\n",
       "      <td>11</td>\n",
       "    </tr>\n",
       "    <tr>\n",
       "      <th>19997</th>\n",
       "      <td>Davao Oriental 2nd district Rep. Cheeno Almari...</td>\n",
       "      <td>13</td>\n",
       "      <td>12</td>\n",
       "    </tr>\n",
       "    <tr>\n",
       "      <th>19998</th>\n",
       "      <td>The Philippine government is eyeing to deport ...</td>\n",
       "      <td>7</td>\n",
       "      <td>6</td>\n",
       "    </tr>\n",
       "    <tr>\n",
       "      <th>19999</th>\n",
       "      <td>devastating scores of families and the town th...</td>\n",
       "      <td>10</td>\n",
       "      <td>9</td>\n",
       "    </tr>\n",
       "  </tbody>\n",
       "</table>\n",
       "<p>20000 rows × 3 columns</p>\n",
       "</div>"
      ],
      "text/plain": [
       "                                                    text  code_frames  label\n",
       "0      Senator Sherwin Gatchalian filed a civil lawsu...            7      6\n",
       "1            AVOID COLLATERAL DAMAGE FROM NRA'S CAMPAIGN           15     14\n",
       "2      MANILA – Human immunodeficiency virus (HIV) in...            9      8\n",
       "3      MANILA, Philippines – President Ferdinand Marc...            2      1\n",
       "4      Japanese Embassy in PH thanks DOJ over deporta...           14     13\n",
       "...                                                  ...          ...    ...\n",
       "19995  MANILA – President Ferdinand R. Marcos Jr. on ...            2      1\n",
       "19996  Do you have a question on the news - local, na...           12     11\n",
       "19997  Davao Oriental 2nd district Rep. Cheeno Almari...           13     12\n",
       "19998  The Philippine government is eyeing to deport ...            7      6\n",
       "19999  devastating scores of families and the town th...           10      9\n",
       "\n",
       "[20000 rows x 3 columns]"
      ]
     },
     "execution_count": 66,
     "metadata": {},
     "output_type": "execute_result"
    }
   ],
   "source": [
    "en_train_df"
   ]
  },
  {
   "cell_type": "code",
   "execution_count": 67,
   "id": "b04027b7",
   "metadata": {},
   "outputs": [
    {
     "data": {
      "text/html": [
       "<div>\n",
       "<style scoped>\n",
       "    .dataframe tbody tr th:only-of-type {\n",
       "        vertical-align: middle;\n",
       "    }\n",
       "\n",
       "    .dataframe tbody tr th {\n",
       "        vertical-align: top;\n",
       "    }\n",
       "\n",
       "    .dataframe thead th {\n",
       "        text-align: right;\n",
       "    }\n",
       "</style>\n",
       "<table border=\"1\" class=\"dataframe\">\n",
       "  <thead>\n",
       "    <tr style=\"text-align: right;\">\n",
       "      <th></th>\n",
       "      <th>text</th>\n",
       "      <th>code_frames</th>\n",
       "      <th>label</th>\n",
       "    </tr>\n",
       "  </thead>\n",
       "  <tbody>\n",
       "    <tr>\n",
       "      <th>0</th>\n",
       "      <td>Physical distancing in classrooms may be eased...</td>\n",
       "      <td>10</td>\n",
       "      <td>9</td>\n",
       "    </tr>\n",
       "    <tr>\n",
       "      <th>1</th>\n",
       "      <td>Bishop took on sensitive social issues\\r\\n</td>\n",
       "      <td>3</td>\n",
       "      <td>2</td>\n",
       "    </tr>\n",
       "    <tr>\n",
       "      <th>2</th>\n",
       "      <td>MANILA – President Ferdinand R. Marcos Jr. has...</td>\n",
       "      <td>14</td>\n",
       "      <td>13</td>\n",
       "    </tr>\n",
       "    <tr>\n",
       "      <th>3</th>\n",
       "      <td>Florida voters strongly support an increase in...</td>\n",
       "      <td>12</td>\n",
       "      <td>11</td>\n",
       "    </tr>\n",
       "    <tr>\n",
       "      <th>4</th>\n",
       "      <td>The Supreme Court had approved new state death...</td>\n",
       "      <td>5</td>\n",
       "      <td>4</td>\n",
       "    </tr>\n",
       "    <tr>\n",
       "      <th>...</th>\n",
       "      <td>...</td>\n",
       "      <td>...</td>\n",
       "      <td>...</td>\n",
       "    </tr>\n",
       "    <tr>\n",
       "      <th>4995</th>\n",
       "      <td>Telemachus 'Tel' Orfanos, 27, survived mass sh...</td>\n",
       "      <td>10</td>\n",
       "      <td>9</td>\n",
       "    </tr>\n",
       "    <tr>\n",
       "      <th>4996</th>\n",
       "      <td>\"Open Carry Picnic\" -- a mix of a typical outd...</td>\n",
       "      <td>12</td>\n",
       "      <td>11</td>\n",
       "    </tr>\n",
       "    <tr>\n",
       "      <th>4997</th>\n",
       "      <td>ASEAN first: Philippine presidents and their s...</td>\n",
       "      <td>13</td>\n",
       "      <td>12</td>\n",
       "    </tr>\n",
       "    <tr>\n",
       "      <th>4998</th>\n",
       "      <td>The Bureau of Immigration (BI) has stopped ano...</td>\n",
       "      <td>7</td>\n",
       "      <td>6</td>\n",
       "    </tr>\n",
       "    <tr>\n",
       "      <th>4999</th>\n",
       "      <td>MANILA, Philippines – The Philippines is still...</td>\n",
       "      <td>13</td>\n",
       "      <td>12</td>\n",
       "    </tr>\n",
       "  </tbody>\n",
       "</table>\n",
       "<p>5000 rows × 3 columns</p>\n",
       "</div>"
      ],
      "text/plain": [
       "                                                   text  code_frames  label\n",
       "0     Physical distancing in classrooms may be eased...           10      9\n",
       "1            Bishop took on sensitive social issues\\r\\n            3      2\n",
       "2     MANILA – President Ferdinand R. Marcos Jr. has...           14     13\n",
       "3     Florida voters strongly support an increase in...           12     11\n",
       "4     The Supreme Court had approved new state death...            5      4\n",
       "...                                                 ...          ...    ...\n",
       "4995  Telemachus 'Tel' Orfanos, 27, survived mass sh...           10      9\n",
       "4996  \"Open Carry Picnic\" -- a mix of a typical outd...           12     11\n",
       "4997  ASEAN first: Philippine presidents and their s...           13     12\n",
       "4998  The Bureau of Immigration (BI) has stopped ano...            7      6\n",
       "4999  MANILA, Philippines – The Philippines is still...           13     12\n",
       "\n",
       "[5000 rows x 3 columns]"
      ]
     },
     "execution_count": 67,
     "metadata": {},
     "output_type": "execute_result"
    }
   ],
   "source": [
    "en_test_df"
   ]
  },
  {
   "cell_type": "code",
   "execution_count": 68,
   "id": "a8752029",
   "metadata": {},
   "outputs": [
    {
     "data": {
      "text/html": [
       "<div>\n",
       "<style scoped>\n",
       "    .dataframe tbody tr th:only-of-type {\n",
       "        vertical-align: middle;\n",
       "    }\n",
       "\n",
       "    .dataframe tbody tr th {\n",
       "        vertical-align: top;\n",
       "    }\n",
       "\n",
       "    .dataframe thead th {\n",
       "        text-align: right;\n",
       "    }\n",
       "</style>\n",
       "<table border=\"1\" class=\"dataframe\">\n",
       "  <thead>\n",
       "    <tr style=\"text-align: right;\">\n",
       "      <th></th>\n",
       "      <th>text</th>\n",
       "      <th>label</th>\n",
       "    </tr>\n",
       "  </thead>\n",
       "  <tbody>\n",
       "    <tr>\n",
       "      <th>0</th>\n",
       "      <td>Sa 110, missing 33 pa</td>\n",
       "      <td>NaN</td>\n",
       "    </tr>\n",
       "    <tr>\n",
       "      <th>1</th>\n",
       "      <td>Masarap talagang chumibog ng malalamig na pagk...</td>\n",
       "      <td>NaN</td>\n",
       "    </tr>\n",
       "    <tr>\n",
       "      <th>2</th>\n",
       "      <td>Todas sa sama ng panahon 43 na — NDRRMC</td>\n",
       "      <td>NaN</td>\n",
       "    </tr>\n",
       "    <tr>\n",
       "      <th>3</th>\n",
       "      <td>Mga gov’t worker may tig-20K bonus pa</td>\n",
       "      <td>NaN</td>\n",
       "    </tr>\n",
       "    <tr>\n",
       "      <th>4</th>\n",
       "      <td>3 nirapido ng ‘Bonnet Gang’ sa kotse</td>\n",
       "      <td>NaN</td>\n",
       "    </tr>\n",
       "    <tr>\n",
       "      <th>...</th>\n",
       "      <td>...</td>\n",
       "      <td>...</td>\n",
       "    </tr>\n",
       "    <tr>\n",
       "      <th>19993</th>\n",
       "      <td>Kabataan Partylist, nakiisa sa kilos-protesta ...</td>\n",
       "      <td>NaN</td>\n",
       "    </tr>\n",
       "    <tr>\n",
       "      <th>19994</th>\n",
       "      <td>DOH, nagbabala sa publiko vs karaniwang sakit ...</td>\n",
       "      <td>NaN</td>\n",
       "    </tr>\n",
       "    <tr>\n",
       "      <th>19995</th>\n",
       "      <td>Tuloy ang transport strike sa Marso 6 hanggang...</td>\n",
       "      <td>NaN</td>\n",
       "    </tr>\n",
       "    <tr>\n",
       "      <th>19996</th>\n",
       "      <td>Barko sa Palawan, nasunog, lumubog; 2 tripulan...</td>\n",
       "      <td>NaN</td>\n",
       "    </tr>\n",
       "    <tr>\n",
       "      <th>19997</th>\n",
       "      <td>LPA, amihan, shear line, magpapaulan sa malaki...</td>\n",
       "      <td>NaN</td>\n",
       "    </tr>\n",
       "  </tbody>\n",
       "</table>\n",
       "<p>19998 rows × 2 columns</p>\n",
       "</div>"
      ],
      "text/plain": [
       "                                                    text  label\n",
       "0                                  Sa 110, missing 33 pa    NaN\n",
       "1      Masarap talagang chumibog ng malalamig na pagk...    NaN\n",
       "2                Todas sa sama ng panahon 43 na — NDRRMC    NaN\n",
       "3                  Mga gov’t worker may tig-20K bonus pa    NaN\n",
       "4                   3 nirapido ng ‘Bonnet Gang’ sa kotse    NaN\n",
       "...                                                  ...    ...\n",
       "19993  Kabataan Partylist, nakiisa sa kilos-protesta ...    NaN\n",
       "19994  DOH, nagbabala sa publiko vs karaniwang sakit ...    NaN\n",
       "19995  Tuloy ang transport strike sa Marso 6 hanggang...    NaN\n",
       "19996  Barko sa Palawan, nasunog, lumubog; 2 tripulan...    NaN\n",
       "19997  LPA, amihan, shear line, magpapaulan sa malaki...    NaN\n",
       "\n",
       "[19998 rows x 2 columns]"
      ]
     },
     "execution_count": 68,
     "metadata": {},
     "output_type": "execute_result"
    }
   ],
   "source": [
    "fil_train_df"
   ]
  },
  {
   "cell_type": "code",
   "execution_count": 69,
   "id": "c384f5d4",
   "metadata": {},
   "outputs": [
    {
     "data": {
      "text/html": [
       "<div>\n",
       "<style scoped>\n",
       "    .dataframe tbody tr th:only-of-type {\n",
       "        vertical-align: middle;\n",
       "    }\n",
       "\n",
       "    .dataframe tbody tr th {\n",
       "        vertical-align: top;\n",
       "    }\n",
       "\n",
       "    .dataframe thead th {\n",
       "        text-align: right;\n",
       "    }\n",
       "</style>\n",
       "<table border=\"1\" class=\"dataframe\">\n",
       "  <thead>\n",
       "    <tr style=\"text-align: right;\">\n",
       "      <th></th>\n",
       "      <th>text</th>\n",
       "      <th>code_frames</th>\n",
       "      <th>label</th>\n",
       "    </tr>\n",
       "  </thead>\n",
       "  <tbody>\n",
       "    <tr>\n",
       "      <th>0</th>\n",
       "      <td>Isang umano’y tinaguriang ‘shabu queen’ at lid...</td>\n",
       "      <td>7</td>\n",
       "      <td>6</td>\n",
       "    </tr>\n",
       "    <tr>\n",
       "      <th>1</th>\n",
       "      <td>Anthrax infection kumalat sa Cagayan</td>\n",
       "      <td>9</td>\n",
       "      <td>8</td>\n",
       "    </tr>\n",
       "    <tr>\n",
       "      <th>2</th>\n",
       "      <td>TESDA: Mga tech-voc graduate swak sa trabaho</td>\n",
       "      <td>10</td>\n",
       "      <td>9</td>\n",
       "    </tr>\n",
       "    <tr>\n",
       "      <th>3</th>\n",
       "      <td>Nagkamit ng unang pwesto ang isang Filipina st...</td>\n",
       "      <td>15</td>\n",
       "      <td>14</td>\n",
       "    </tr>\n",
       "    <tr>\n",
       "      <th>4</th>\n",
       "      <td>NEDA inaprub tapyas taripa sa e-vehicle</td>\n",
       "      <td>6</td>\n",
       "      <td>5</td>\n",
       "    </tr>\n",
       "    <tr>\n",
       "      <th>...</th>\n",
       "      <td>...</td>\n",
       "      <td>...</td>\n",
       "      <td>...</td>\n",
       "    </tr>\n",
       "    <tr>\n",
       "      <th>4979</th>\n",
       "      <td>Typhoon Betty, patuloy na humihina sa karagata...</td>\n",
       "      <td>9</td>\n",
       "      <td>8</td>\n",
       "    </tr>\n",
       "    <tr>\n",
       "      <th>4980</th>\n",
       "      <td>'Sarap maging tatay!' Post ng netizen tungkol ...</td>\n",
       "      <td>11</td>\n",
       "      <td>10</td>\n",
       "    </tr>\n",
       "    <tr>\n",
       "      <th>4981</th>\n",
       "      <td>TESDA, maglulunsad ng training programs para s...</td>\n",
       "      <td>2</td>\n",
       "      <td>1</td>\n",
       "    </tr>\n",
       "    <tr>\n",
       "      <th>4982</th>\n",
       "      <td>Anne Curtis, nagdiwang ng kaarawan sa ‘It’s Sh...</td>\n",
       "      <td>15</td>\n",
       "      <td>14</td>\n",
       "    </tr>\n",
       "    <tr>\n",
       "      <th>4983</th>\n",
       "      <td>Kamakailan lamang ay ibinida ng social media p...</td>\n",
       "      <td>15</td>\n",
       "      <td>14</td>\n",
       "    </tr>\n",
       "  </tbody>\n",
       "</table>\n",
       "<p>4984 rows × 3 columns</p>\n",
       "</div>"
      ],
      "text/plain": [
       "                                                   text  code_frames  label\n",
       "0     Isang umano’y tinaguriang ‘shabu queen’ at lid...            7      6\n",
       "1                  Anthrax infection kumalat sa Cagayan            9      8\n",
       "2          TESDA: Mga tech-voc graduate swak sa trabaho           10      9\n",
       "3     Nagkamit ng unang pwesto ang isang Filipina st...           15     14\n",
       "4               NEDA inaprub tapyas taripa sa e-vehicle            6      5\n",
       "...                                                 ...          ...    ...\n",
       "4979  Typhoon Betty, patuloy na humihina sa karagata...            9      8\n",
       "4980  'Sarap maging tatay!' Post ng netizen tungkol ...           11     10\n",
       "4981  TESDA, maglulunsad ng training programs para s...            2      1\n",
       "4982  Anne Curtis, nagdiwang ng kaarawan sa ‘It’s Sh...           15     14\n",
       "4983  Kamakailan lamang ay ibinida ng social media p...           15     14\n",
       "\n",
       "[4984 rows x 3 columns]"
      ]
     },
     "execution_count": 69,
     "metadata": {},
     "output_type": "execute_result"
    }
   ],
   "source": [
    "fil_test_df"
   ]
  },
  {
   "cell_type": "markdown",
   "id": "9dda052f",
   "metadata": {},
   "source": [
    "## **Preparing Training Setup**"
   ]
  },
  {
   "cell_type": "code",
   "execution_count": null,
   "id": "4b286d01",
   "metadata": {},
   "outputs": [],
   "source": [
    "# Choose model: 'bert-base-multilingual-cased' or 'xlm-roberta-base'\n",
    "model_name = 'bert-base-multilingual-cased'\n",
    "\n",
    "# Training hyperparameters\n",
    "num_labels = 15\n",
    "max_length = 128\n",
    "learning_rate = 2e-5\n",
    "train_batch_size = 32\n",
    "eval_batch_size = 32\n",
    "num_epochs = 3\n",
    "weight_decay = 0.01\n",
    "\n",
    "# For self-training\n",
    "num_top_k = 40\n",
    "num_self_train = 5\n",
    "\n",
    "# For adversarial training\n",
    "adv_training = False"
   ]
  },
  {
   "cell_type": "code",
   "execution_count": null,
   "id": "ffa1e394",
   "metadata": {},
   "outputs": [],
   "source": [
    "tokenizer = AutoTokenizer.from_pretrained(model_name)"
   ]
  },
  {
   "cell_type": "code",
   "execution_count": 72,
   "id": "d947a12f",
   "metadata": {},
   "outputs": [],
   "source": [
    "def preprocess(example):\n",
    "    return tokenizer(\n",
    "        example['text'],\n",
    "        padding='max_length',\n",
    "        truncation=True,\n",
    "        max_length=max_length\n",
    "    )"
   ]
  },
  {
   "cell_type": "code",
   "execution_count": null,
   "id": "06c64e17",
   "metadata": {},
   "outputs": [],
   "source": [
    "def compute_metrics(eval_pred):\n",
    "    logits, labels = eval_pred\n",
    "    preds = torch.argmax(torch.tensor(logits), dim=-1).numpy()\n",
    "    labels = np.array(labels)\n",
    "\n",
    "    return {\n",
    "        'accuracy': accuracy_score(labels, preds),\n",
    "        'f1': f1_score(labels, preds, average='weighted'),\n",
    "        'rmse': np.sqrt(mean_squared_error(labels, preds))\n",
    "    }"
   ]
  },
  {
   "cell_type": "code",
   "execution_count": 74,
   "id": "cd2cf69a",
   "metadata": {},
   "outputs": [],
   "source": [
    "def get_embedding_name(model_name):\n",
    "    if 'roberta' in model_name:\n",
    "        return 'roberta.embeddings.word_embeddings'\n",
    "    elif 'bert' in model_name:\n",
    "        return 'bert.embeddings.word_embeddings'\n",
    "    else:\n",
    "        raise ValueError(f\"Unsupported model architecture in: {model_name}\")"
   ]
  },
  {
   "cell_type": "code",
   "execution_count": null,
   "id": "8acc5bbe",
   "metadata": {},
   "outputs": [],
   "source": [
    "class CustomTrainer(Trainer):\n",
    "    def __init__(self, *args, adv_training=False, epsilon=1.0, emb_name=None, **kwargs):\n",
    "        super().__init__(*args, **kwargs)\n",
    "        self.adv_training = adv_training\n",
    "        self.epsilon = epsilon\n",
    "        self.emb_name = emb_name\n",
    "        self.backup = {}\n",
    "\n",
    "        if self.adv_training and self.emb_name is None:\n",
    "            raise ValueError('Embedding layer name (`emb_name`) must be provided when adversarial training is enabled.')\n",
    "\n",
    "    def attack(self, model):\n",
    "        for name, param in model.named_parameters():\n",
    "            if param.requires_grad and self.emb_name in name:\n",
    "                self.backup[name] = param.data.clone()\n",
    "                norm = torch.norm(param.grad)\n",
    "                if norm != 0 and not torch.isnan(norm):\n",
    "                    param.data.add_(self.epsilon * param.grad / norm)\n",
    "\n",
    "    def restore(self, model):\n",
    "        for name, param in model.named_parameters():\n",
    "            if param.requires_grad and self.emb_name in name:\n",
    "                assert name in self.backup, f\"{name} not found in backup during restore\"\n",
    "                param.data = self.backup[name]\n",
    "        self.backup = {}\n",
    "\n",
    "    def training_step(self, model, inputs, loss_fn=None):\n",
    "        loss = super().training_step(model, inputs, loss_fn)\n",
    "\n",
    "        if self.adv_training:\n",
    "            self.attack(model)\n",
    "            adv_loss = super().training_step(model, inputs, loss_fn)\n",
    "            self.restore(model)\n",
    "            loss += adv_loss\n",
    "\n",
    "        return loss"
   ]
  },
  {
   "cell_type": "code",
   "execution_count": 76,
   "id": "8260012c",
   "metadata": {},
   "outputs": [],
   "source": [
    "def sort(train_dataset, unlabeled_dataset, logits, label_list, num_k):\n",
    "    probs = F.softmax(torch.tensor(logits), dim=-1)\n",
    "    confidences, pseudo_labels = torch.max(probs, dim=-1)\n",
    "\n",
    "    label2indices = {label: [] for label in label_list}\n",
    "    for idx, (pred, conf) in enumerate(zip(pseudo_labels, confidences)):\n",
    "        label2indices[pred.item()].append((idx, conf.item()))\n",
    "\n",
    "    selected_indices = []\n",
    "    print('Pseudo-labeled instance count per class:')\n",
    "    for label in label_list:\n",
    "        candidates = label2indices[label]\n",
    "        if not candidates:\n",
    "            print(f\"Class {label}: No confident instances\")\n",
    "            continue\n",
    "        sorted_indices = sorted(candidates, key=lambda x: x[1], reverse=True)\n",
    "        top_k = sorted_indices[:num_k]\n",
    "        selected_indices.extend(idx for idx, _ in top_k)\n",
    "        top_confidences = [conf for _, conf in top_k]\n",
    "        min_conf = min(top_confidences)\n",
    "        max_conf = max(top_confidences)\n",
    "        print(f\"Class {label}: {len(top_k)} instances selected (out of {len(candidates)}), Confidence range: {min_conf:.4f}–{max_conf:.4f}\")\n",
    "\n",
    "    selected = [unlabeled_dataset[i].copy() for i in selected_indices]\n",
    "    for i, ex in zip(selected_indices, selected):\n",
    "        ex['label'] = int(pseudo_labels[i])\n",
    "\n",
    "    remaining_unlabeled = [unlabeled_dataset[i] for i in range(len(unlabeled_dataset)) if i not in selected_indices]\n",
    "    updated_train = train_dataset + selected\n",
    "    return updated_train, remaining_unlabeled\n"
   ]
  },
  {
   "cell_type": "code",
   "execution_count": null,
   "id": "83f16519",
   "metadata": {},
   "outputs": [],
   "source": [
    "def predict(trainer, train_dataset, unlabeled_dataset, label_list, num_k):\n",
    "    predictions = trainer.predict(unlabeled_dataset)\n",
    "    logits = predictions.predictions\n",
    "\n",
    "    updated_train, remaining_unlabeled = sort(train_dataset, unlabeled_dataset, logits, label_list, num_k)\n",
    "\n",
    "    return updated_train, remaining_unlabeled"
   ]
  },
  {
   "cell_type": "code",
   "execution_count": 78,
   "id": "0196d2ac",
   "metadata": {},
   "outputs": [],
   "source": [
    "def set_seed(seed):\n",
    "    random.seed(seed)\n",
    "    np.random.seed(seed)\n",
    "    torch.manual_seed(seed)\n",
    "    torch.cuda.manual_seed_all(seed)\n",
    "    torch.backends.cudnn.deterministic = True\n",
    "    torch.backends.cudnn.benchmark = False"
   ]
  },
  {
   "cell_type": "code",
   "execution_count": null,
   "id": "728e14d1",
   "metadata": {},
   "outputs": [],
   "source": [
    "def self_training_loop():\n",
    "    \n",
    "    set_seed(42)\n",
    "    \n",
    "    train_dataset = Dataset.from_pandas(en_train_df).map(preprocess, batched=True).to_list()\n",
    "    unlabeled_dataset = Dataset.from_pandas(fil_train_df.drop(columns=['label'], errors='ignore')).map(preprocess, batched=True).to_list()\n",
    "    fil_val_dataset = Dataset.from_pandas(fil_test_df).map(preprocess, batched=True)\n",
    "    en_val_dataset = Dataset.from_pandas(en_test_df).map(preprocess, batched=True)\n",
    "\n",
    "    label_list = list(range(num_labels))\n",
    "\n",
    "    best_f1 = -1.0\n",
    "    best_iteration = -1\n",
    "    best_epoch = -1\n",
    "\n",
    "    for i in range(num_self_train):\n",
    "        print(f\"\\nSELF-LEARNING ITERATION {i + 1}/{num_self_train}\")\n",
    "\n",
    "        model = AutoModelForSequenceClassification.from_pretrained(model_name, num_labels=num_labels)\n",
    "\n",
    "        base_output_dir = f\"./results/sl_adv/{model_name.replace('/', '_')}\" if adv_training else f\"./results/sl/{model_name.replace('/', '_')}\"\n",
    "        iter_output_dir = f\"{base_output_dir}/iter_{i+1}\"\n",
    "\n",
    "        training_args = TrainingArguments(\n",
    "            output_dir=iter_output_dir,\n",
    "            eval_strategy='epoch',            \n",
    "            save_strategy='epoch',\n",
    "            logging_strategy='epoch',\n",
    "            learning_rate=learning_rate,\n",
    "            per_device_train_batch_size=train_batch_size,\n",
    "            per_device_eval_batch_size=eval_batch_size,\n",
    "            num_train_epochs=num_epochs,\n",
    "            weight_decay=weight_decay,\n",
    "            load_best_model_at_end=True,\n",
    "            metric_for_best_model='f1',\n",
    "            greater_is_better=True,\n",
    "            save_total_limit=1,\n",
    "            report_to='none',\n",
    "            seed=42,\n",
    "        )\n",
    "\n",
    "        # Prepare training dataset for this iteration\n",
    "        train_ds = Dataset.from_list(train_dataset).map(preprocess, batched=True)\n",
    "\n",
    "        # Detect embedding name only if adversarial training is on\n",
    "        embedding_name = get_embedding_name(model_name) if adv_training else None\n",
    "\n",
    "        # Create trainer\n",
    "        trainer = CustomTrainer(\n",
    "            model=model,\n",
    "            args=training_args,\n",
    "            train_dataset=train_ds,\n",
    "            eval_dataset=fil_val_dataset,\n",
    "            tokenizer=tokenizer,\n",
    "            compute_metrics=compute_metrics,\n",
    "            adv_training=adv_training,\n",
    "            emb_name=embedding_name\n",
    "        )\n",
    "\n",
    "        trainer.train()\n",
    "\n",
    "        # Run pseudo-labeling only if more training rounds are left\n",
    "        if i < num_self_train - 1:\n",
    "            train_dataset, unlabeled_dataset = predict(\n",
    "                trainer, train_dataset, unlabeled_dataset, label_list, num_top_k\n",
    "            )\n",
    "            print(f\"\\nTraining set size after this round: {len(train_dataset)}\")\n",
    "            print(f\"Remaining unlabeled examples after this round: {len(unlabeled_dataset)}\")\n",
    "\n",
    "        # Evaluate current model on Filipino validation set\n",
    "        fil_predictions = trainer.predict(fil_val_dataset)\n",
    "        fil_logits = fil_predictions.predictions\n",
    "        fil_labels = fil_predictions.label_ids if fil_predictions.label_ids is not None else np.argmax(fil_logits, axis=1)\n",
    "        fil_metrics = compute_metrics((fil_logits, fil_labels))\n",
    "        print(f\"Metrics on Filipino Validation Set: {fil_metrics}\")\n",
    "\n",
    "        # Evaluate current model on English validation set\n",
    "        en_predictions = trainer.predict(en_val_dataset)\n",
    "        en_logits = en_predictions.predictions\n",
    "        en_labels = en_predictions.label_ids if en_predictions.label_ids is not None else np.argmax(en_logits, axis=1)\n",
    "        en_metrics = compute_metrics((en_logits, en_labels))\n",
    "        print(f\"Metrics on English validation Set: {en_metrics}\")\n",
    "\n",
    "        if fil_metrics['f1'] > best_f1:\n",
    "            best_f1 = fil_metrics['f1']\n",
    "            best_iteration = i + 1\n",
    "            best_epoch = trainer.state.epoch\n",
    "            print(f\"New best model found on iteration {best_iteration}, epoch {best_epoch:.1f} with F1 = {best_f1:.4f}\")\n",
    "\n",
    "    print(f\"\\nBest overall model was from iteration {best_iteration}, epoch {best_epoch:.1f} with F1 = {best_f1:.4f}\")\n"
   ]
  },
  {
   "cell_type": "markdown",
   "id": "8e63f99c",
   "metadata": {},
   "source": [
    "## **Self-learning**"
   ]
  },
  {
   "cell_type": "markdown",
   "id": "2bfc0cff",
   "metadata": {},
   "source": [
    "### mBERT"
   ]
  },
  {
   "cell_type": "code",
   "execution_count": 20,
   "id": "1fe86de4",
   "metadata": {},
   "outputs": [
    {
     "name": "stderr",
     "output_type": "stream",
     "text": [
      "Map: 100%|██████████| 20000/20000 [00:01<00:00, 19140.82 examples/s]\n",
      "Map: 100%|██████████| 19998/19998 [00:00<00:00, 21322.44 examples/s]\n",
      "Map: 100%|██████████| 4984/4984 [00:00<00:00, 23526.03 examples/s]\n",
      "Map: 100%|██████████| 5000/5000 [00:00<00:00, 24750.15 examples/s]\n"
     ]
    },
    {
     "name": "stdout",
     "output_type": "stream",
     "text": [
      "\n",
      "SELF-LEARNING ITERATION 1/5\n"
     ]
    },
    {
     "name": "stderr",
     "output_type": "stream",
     "text": [
      "Some weights of BertForSequenceClassification were not initialized from the model checkpoint at bert-base-multilingual-cased and are newly initialized: ['classifier.bias', 'classifier.weight']\n",
      "You should probably TRAIN this model on a down-stream task to be able to use it for predictions and inference.\n",
      "Map: 100%|██████████| 20000/20000 [00:00<00:00, 21392.44 examples/s]\n",
      "C:\\Users\\User\\AppData\\Local\\Temp\\ipykernel_25352\\3903225634.py:4: FutureWarning: `tokenizer` is deprecated and will be removed in version 5.0.0 for `CustomTrainer.__init__`. Use `processing_class` instead.\n",
      "  super().__init__(*args, **kwargs)\n"
     ]
    },
    {
     "data": {
      "text/html": [
       "\n",
       "    <div>\n",
       "      \n",
       "      <progress value='1875' max='1875' style='width:300px; height:20px; vertical-align: middle;'></progress>\n",
       "      [1875/1875 2:44:18, Epoch 3/3]\n",
       "    </div>\n",
       "    <table border=\"1\" class=\"dataframe\">\n",
       "  <thead>\n",
       " <tr style=\"text-align: left;\">\n",
       "      <th>Epoch</th>\n",
       "      <th>Training Loss</th>\n",
       "      <th>Validation Loss</th>\n",
       "      <th>Accuracy</th>\n",
       "      <th>F1</th>\n",
       "      <th>Rmse</th>\n",
       "    </tr>\n",
       "  </thead>\n",
       "  <tbody>\n",
       "    <tr>\n",
       "      <td>1</td>\n",
       "      <td>1.623100</td>\n",
       "      <td>1.836078</td>\n",
       "      <td>0.434791</td>\n",
       "      <td>0.444250</td>\n",
       "      <td>4.435375</td>\n",
       "    </tr>\n",
       "    <tr>\n",
       "      <td>2</td>\n",
       "      <td>1.008200</td>\n",
       "      <td>1.965006</td>\n",
       "      <td>0.421148</td>\n",
       "      <td>0.439205</td>\n",
       "      <td>4.353164</td>\n",
       "    </tr>\n",
       "    <tr>\n",
       "      <td>3</td>\n",
       "      <td>0.759900</td>\n",
       "      <td>1.953064</td>\n",
       "      <td>0.441011</td>\n",
       "      <td>0.458741</td>\n",
       "      <td>4.232366</td>\n",
       "    </tr>\n",
       "  </tbody>\n",
       "</table><p>"
      ],
      "text/plain": [
       "<IPython.core.display.HTML object>"
      ]
     },
     "metadata": {},
     "output_type": "display_data"
    },
    {
     "data": {
      "text/html": [],
      "text/plain": [
       "<IPython.core.display.HTML object>"
      ]
     },
     "metadata": {},
     "output_type": "display_data"
    },
    {
     "name": "stdout",
     "output_type": "stream",
     "text": [
      "Pseudo-labeled instance count per class:\n",
      "Class 0: 40 instances selected (out of 791), Confidence range: 0.9181–0.9498\n",
      "Class 1: 40 instances selected (out of 1616), Confidence range: 0.8163–0.8618\n",
      "Class 2: 40 instances selected (out of 371), Confidence range: 0.9357–0.9631\n",
      "Class 3: 40 instances selected (out of 79), Confidence range: 0.5519–0.9036\n",
      "Class 4: 40 instances selected (out of 143), Confidence range: 0.7109–0.9436\n",
      "Class 5: 40 instances selected (out of 769), Confidence range: 0.9213–0.9352\n",
      "Class 6: 40 instances selected (out of 2557), Confidence range: 0.9771–0.9798\n",
      "Class 7: 40 instances selected (out of 584), Confidence range: 0.9017–0.9551\n",
      "Class 8: 40 instances selected (out of 2159), Confidence range: 0.9700–0.9721\n",
      "Class 9: 40 instances selected (out of 3066), Confidence range: 0.8990–0.9256\n",
      "Class 10: 40 instances selected (out of 374), Confidence range: 0.6817–0.8714\n",
      "Class 11: 40 instances selected (out of 223), Confidence range: 0.7922–0.9358\n",
      "Class 12: 40 instances selected (out of 2375), Confidence range: 0.9615–0.9661\n",
      "Class 13: 40 instances selected (out of 647), Confidence range: 0.9577–0.9673\n",
      "Class 14: 40 instances selected (out of 4244), Confidence range: 0.9159–0.9294\n",
      "\n",
      "Training set size after this round: 20600\n",
      "Remaining unlabeled examples after this round: 19398\n"
     ]
    },
    {
     "data": {
      "text/html": [],
      "text/plain": [
       "<IPython.core.display.HTML object>"
      ]
     },
     "metadata": {},
     "output_type": "display_data"
    },
    {
     "name": "stdout",
     "output_type": "stream",
     "text": [
      "Metrics on Filipino Validation Set: {'accuracy': 0.4410112359550562, 'f1': 0.4587407732423319, 'rmse': np.float64(4.232365927978654)}\n"
     ]
    },
    {
     "data": {
      "text/html": [],
      "text/plain": [
       "<IPython.core.display.HTML object>"
      ]
     },
     "metadata": {},
     "output_type": "display_data"
    },
    {
     "name": "stdout",
     "output_type": "stream",
     "text": [
      "Metrics on English validation Set: {'accuracy': 0.6906, 'f1': 0.689478321905268, 'rmse': np.float64(3.421841609426129)}\n",
      "New best model found on iteration 1, epoch 3.0 with F1 = 0.4587\n",
      "\n",
      "SELF-LEARNING ITERATION 2/5\n"
     ]
    },
    {
     "name": "stderr",
     "output_type": "stream",
     "text": [
      "Some weights of BertForSequenceClassification were not initialized from the model checkpoint at bert-base-multilingual-cased and are newly initialized: ['classifier.bias', 'classifier.weight']\n",
      "You should probably TRAIN this model on a down-stream task to be able to use it for predictions and inference.\n",
      "Map: 100%|██████████| 20600/20600 [00:00<00:00, 21117.71 examples/s]\n",
      "C:\\Users\\User\\AppData\\Local\\Temp\\ipykernel_25352\\3903225634.py:4: FutureWarning: `tokenizer` is deprecated and will be removed in version 5.0.0 for `CustomTrainer.__init__`. Use `processing_class` instead.\n",
      "  super().__init__(*args, **kwargs)\n"
     ]
    },
    {
     "data": {
      "text/html": [
       "\n",
       "    <div>\n",
       "      \n",
       "      <progress value='1932' max='1932' style='width:300px; height:20px; vertical-align: middle;'></progress>\n",
       "      [1932/1932 2:49:05, Epoch 3/3]\n",
       "    </div>\n",
       "    <table border=\"1\" class=\"dataframe\">\n",
       "  <thead>\n",
       " <tr style=\"text-align: left;\">\n",
       "      <th>Epoch</th>\n",
       "      <th>Training Loss</th>\n",
       "      <th>Validation Loss</th>\n",
       "      <th>Accuracy</th>\n",
       "      <th>F1</th>\n",
       "      <th>Rmse</th>\n",
       "    </tr>\n",
       "  </thead>\n",
       "  <tbody>\n",
       "    <tr>\n",
       "      <td>1</td>\n",
       "      <td>1.545200</td>\n",
       "      <td>2.062803</td>\n",
       "      <td>0.368579</td>\n",
       "      <td>0.390707</td>\n",
       "      <td>4.268924</td>\n",
       "    </tr>\n",
       "    <tr>\n",
       "      <td>2</td>\n",
       "      <td>0.966400</td>\n",
       "      <td>2.140092</td>\n",
       "      <td>0.393459</td>\n",
       "      <td>0.424088</td>\n",
       "      <td>4.195895</td>\n",
       "    </tr>\n",
       "    <tr>\n",
       "      <td>3</td>\n",
       "      <td>0.734700</td>\n",
       "      <td>2.221549</td>\n",
       "      <td>0.388644</td>\n",
       "      <td>0.419401</td>\n",
       "      <td>4.130083</td>\n",
       "    </tr>\n",
       "  </tbody>\n",
       "</table><p>"
      ],
      "text/plain": [
       "<IPython.core.display.HTML object>"
      ]
     },
     "metadata": {},
     "output_type": "display_data"
    },
    {
     "data": {
      "text/html": [],
      "text/plain": [
       "<IPython.core.display.HTML object>"
      ]
     },
     "metadata": {},
     "output_type": "display_data"
    },
    {
     "name": "stdout",
     "output_type": "stream",
     "text": [
      "Pseudo-labeled instance count per class:\n",
      "Class 0: 40 instances selected (out of 1052), Confidence range: 0.9364–0.9512\n",
      "Class 1: 40 instances selected (out of 1414), Confidence range: 0.8041–0.8723\n",
      "Class 2: 40 instances selected (out of 294), Confidence range: 0.9271–0.9550\n",
      "Class 3: 40 instances selected (out of 234), Confidence range: 0.6925–0.9077\n",
      "Class 4: 40 instances selected (out of 628), Confidence range: 0.8531–0.9388\n",
      "Class 5: 40 instances selected (out of 1218), Confidence range: 0.8867–0.9269\n",
      "Class 6: 40 instances selected (out of 2029), Confidence range: 0.9681–0.9728\n",
      "Class 7: 40 instances selected (out of 647), Confidence range: 0.9143–0.9457\n",
      "Class 8: 40 instances selected (out of 2067), Confidence range: 0.9657–0.9686\n",
      "Class 9: 40 instances selected (out of 2677), Confidence range: 0.8742–0.9075\n",
      "Class 10: 40 instances selected (out of 1396), Confidence range: 0.8662–0.9031\n",
      "Class 11: 40 instances selected (out of 333), Confidence range: 0.8563–0.9255\n",
      "Class 12: 40 instances selected (out of 2049), Confidence range: 0.9511–0.9587\n",
      "Class 13: 40 instances selected (out of 699), Confidence range: 0.9481–0.9607\n",
      "Class 14: 40 instances selected (out of 2661), Confidence range: 0.9304–0.9400\n",
      "\n",
      "Training set size after this round: 21200\n",
      "Remaining unlabeled examples after this round: 18798\n"
     ]
    },
    {
     "data": {
      "text/html": [],
      "text/plain": [
       "<IPython.core.display.HTML object>"
      ]
     },
     "metadata": {},
     "output_type": "display_data"
    },
    {
     "name": "stdout",
     "output_type": "stream",
     "text": [
      "Metrics on Filipino Validation Set: {'accuracy': 0.39345906902086675, 'f1': 0.42408771241429094, 'rmse': np.float64(4.1958953419629355)}\n"
     ]
    },
    {
     "data": {
      "text/html": [],
      "text/plain": [
       "<IPython.core.display.HTML object>"
      ]
     },
     "metadata": {},
     "output_type": "display_data"
    },
    {
     "name": "stdout",
     "output_type": "stream",
     "text": [
      "Metrics on English validation Set: {'accuracy': 0.6866, 'f1': 0.6855292050832662, 'rmse': np.float64(3.4478108996869303)}\n",
      "\n",
      "SELF-LEARNING ITERATION 3/5\n"
     ]
    },
    {
     "name": "stderr",
     "output_type": "stream",
     "text": [
      "Some weights of BertForSequenceClassification were not initialized from the model checkpoint at bert-base-multilingual-cased and are newly initialized: ['classifier.bias', 'classifier.weight']\n",
      "You should probably TRAIN this model on a down-stream task to be able to use it for predictions and inference.\n",
      "Map: 100%|██████████| 21200/21200 [00:01<00:00, 21191.96 examples/s]\n",
      "C:\\Users\\User\\AppData\\Local\\Temp\\ipykernel_25352\\3903225634.py:4: FutureWarning: `tokenizer` is deprecated and will be removed in version 5.0.0 for `CustomTrainer.__init__`. Use `processing_class` instead.\n",
      "  super().__init__(*args, **kwargs)\n"
     ]
    },
    {
     "data": {
      "text/html": [
       "\n",
       "    <div>\n",
       "      \n",
       "      <progress value='1989' max='1989' style='width:300px; height:20px; vertical-align: middle;'></progress>\n",
       "      [1989/1989 2:53:57, Epoch 3/3]\n",
       "    </div>\n",
       "    <table border=\"1\" class=\"dataframe\">\n",
       "  <thead>\n",
       " <tr style=\"text-align: left;\">\n",
       "      <th>Epoch</th>\n",
       "      <th>Training Loss</th>\n",
       "      <th>Validation Loss</th>\n",
       "      <th>Accuracy</th>\n",
       "      <th>F1</th>\n",
       "      <th>Rmse</th>\n",
       "    </tr>\n",
       "  </thead>\n",
       "  <tbody>\n",
       "    <tr>\n",
       "      <td>1</td>\n",
       "      <td>1.534700</td>\n",
       "      <td>2.241271</td>\n",
       "      <td>0.342295</td>\n",
       "      <td>0.372288</td>\n",
       "      <td>4.415358</td>\n",
       "    </tr>\n",
       "    <tr>\n",
       "      <td>2</td>\n",
       "      <td>0.933800</td>\n",
       "      <td>2.334151</td>\n",
       "      <td>0.356340</td>\n",
       "      <td>0.386868</td>\n",
       "      <td>4.197736</td>\n",
       "    </tr>\n",
       "    <tr>\n",
       "      <td>3</td>\n",
       "      <td>0.700000</td>\n",
       "      <td>2.359192</td>\n",
       "      <td>0.364767</td>\n",
       "      <td>0.398668</td>\n",
       "      <td>4.170065</td>\n",
       "    </tr>\n",
       "  </tbody>\n",
       "</table><p>"
      ],
      "text/plain": [
       "<IPython.core.display.HTML object>"
      ]
     },
     "metadata": {},
     "output_type": "display_data"
    },
    {
     "data": {
      "text/html": [],
      "text/plain": [
       "<IPython.core.display.HTML object>"
      ]
     },
     "metadata": {},
     "output_type": "display_data"
    },
    {
     "name": "stdout",
     "output_type": "stream",
     "text": [
      "Pseudo-labeled instance count per class:\n",
      "Class 0: 40 instances selected (out of 1050), Confidence range: 0.9643–0.9707\n",
      "Class 1: 40 instances selected (out of 1338), Confidence range: 0.8855–0.9123\n",
      "Class 2: 40 instances selected (out of 332), Confidence range: 0.9551–0.9701\n",
      "Class 3: 40 instances selected (out of 515), Confidence range: 0.8719–0.9351\n",
      "Class 4: 40 instances selected (out of 699), Confidence range: 0.9181–0.9591\n",
      "Class 5: 40 instances selected (out of 1066), Confidence range: 0.9307–0.9498\n",
      "Class 6: 40 instances selected (out of 1850), Confidence range: 0.9726–0.9760\n",
      "Class 7: 40 instances selected (out of 972), Confidence range: 0.9559–0.9670\n",
      "Class 8: 40 instances selected (out of 2014), Confidence range: 0.9726–0.9740\n",
      "Class 9: 40 instances selected (out of 2614), Confidence range: 0.9247–0.9442\n",
      "Class 10: 40 instances selected (out of 1664), Confidence range: 0.9339–0.9440\n",
      "Class 11: 40 instances selected (out of 762), Confidence range: 0.9507–0.9652\n",
      "Class 12: 40 instances selected (out of 1530), Confidence range: 0.9693–0.9739\n",
      "Class 13: 40 instances selected (out of 657), Confidence range: 0.9646–0.9692\n",
      "Class 14: 40 instances selected (out of 1735), Confidence range: 0.9393–0.9485\n",
      "\n",
      "Training set size after this round: 21800\n",
      "Remaining unlabeled examples after this round: 18198\n"
     ]
    },
    {
     "data": {
      "text/html": [],
      "text/plain": [
       "<IPython.core.display.HTML object>"
      ]
     },
     "metadata": {},
     "output_type": "display_data"
    },
    {
     "name": "stdout",
     "output_type": "stream",
     "text": [
      "Metrics on Filipino Validation Set: {'accuracy': 0.3647672552166934, 'f1': 0.3986676154162394, 'rmse': np.float64(4.170065494441229)}\n"
     ]
    },
    {
     "data": {
      "text/html": [],
      "text/plain": [
       "<IPython.core.display.HTML object>"
      ]
     },
     "metadata": {},
     "output_type": "display_data"
    },
    {
     "name": "stdout",
     "output_type": "stream",
     "text": [
      "Metrics on English validation Set: {'accuracy': 0.696, 'f1': 0.694937290834445, 'rmse': np.float64(3.3450859480736814)}\n",
      "\n",
      "SELF-LEARNING ITERATION 4/5\n"
     ]
    },
    {
     "name": "stderr",
     "output_type": "stream",
     "text": [
      "Some weights of BertForSequenceClassification were not initialized from the model checkpoint at bert-base-multilingual-cased and are newly initialized: ['classifier.bias', 'classifier.weight']\n",
      "You should probably TRAIN this model on a down-stream task to be able to use it for predictions and inference.\n",
      "Map: 100%|██████████| 21800/21800 [00:01<00:00, 21054.72 examples/s]\n",
      "C:\\Users\\User\\AppData\\Local\\Temp\\ipykernel_25352\\3903225634.py:4: FutureWarning: `tokenizer` is deprecated and will be removed in version 5.0.0 for `CustomTrainer.__init__`. Use `processing_class` instead.\n",
      "  super().__init__(*args, **kwargs)\n"
     ]
    },
    {
     "data": {
      "text/html": [
       "\n",
       "    <div>\n",
       "      \n",
       "      <progress value='2046' max='2046' style='width:300px; height:20px; vertical-align: middle;'></progress>\n",
       "      [2046/2046 2:51:11, Epoch 3/3]\n",
       "    </div>\n",
       "    <table border=\"1\" class=\"dataframe\">\n",
       "  <thead>\n",
       " <tr style=\"text-align: left;\">\n",
       "      <th>Epoch</th>\n",
       "      <th>Training Loss</th>\n",
       "      <th>Validation Loss</th>\n",
       "      <th>Accuracy</th>\n",
       "      <th>F1</th>\n",
       "      <th>Rmse</th>\n",
       "    </tr>\n",
       "  </thead>\n",
       "  <tbody>\n",
       "    <tr>\n",
       "      <td>1</td>\n",
       "      <td>1.497900</td>\n",
       "      <td>2.441643</td>\n",
       "      <td>0.309591</td>\n",
       "      <td>0.333653</td>\n",
       "      <td>4.294744</td>\n",
       "    </tr>\n",
       "    <tr>\n",
       "      <td>2</td>\n",
       "      <td>0.920400</td>\n",
       "      <td>2.474061</td>\n",
       "      <td>0.338684</td>\n",
       "      <td>0.369457</td>\n",
       "      <td>4.231347</td>\n",
       "    </tr>\n",
       "    <tr>\n",
       "      <td>3</td>\n",
       "      <td>0.693100</td>\n",
       "      <td>2.581924</td>\n",
       "      <td>0.343499</td>\n",
       "      <td>0.374995</td>\n",
       "      <td>4.243823</td>\n",
       "    </tr>\n",
       "  </tbody>\n",
       "</table><p>"
      ],
      "text/plain": [
       "<IPython.core.display.HTML object>"
      ]
     },
     "metadata": {},
     "output_type": "display_data"
    },
    {
     "data": {
      "text/html": [],
      "text/plain": [
       "<IPython.core.display.HTML object>"
      ]
     },
     "metadata": {},
     "output_type": "display_data"
    },
    {
     "name": "stdout",
     "output_type": "stream",
     "text": [
      "Pseudo-labeled instance count per class:\n",
      "Class 0: 40 instances selected (out of 884), Confidence range: 0.9518–0.9600\n",
      "Class 1: 40 instances selected (out of 1463), Confidence range: 0.9094–0.9270\n",
      "Class 2: 40 instances selected (out of 363), Confidence range: 0.9573–0.9704\n",
      "Class 3: 40 instances selected (out of 920), Confidence range: 0.9297–0.9547\n",
      "Class 4: 40 instances selected (out of 898), Confidence range: 0.9309–0.9644\n",
      "Class 5: 40 instances selected (out of 869), Confidence range: 0.9312–0.9504\n",
      "Class 6: 40 instances selected (out of 1572), Confidence range: 0.9709–0.9743\n",
      "Class 7: 40 instances selected (out of 1028), Confidence range: 0.9594–0.9675\n",
      "Class 8: 40 instances selected (out of 1824), Confidence range: 0.9739–0.9758\n",
      "Class 9: 40 instances selected (out of 2500), Confidence range: 0.9455–0.9595\n",
      "Class 10: 40 instances selected (out of 1773), Confidence range: 0.9510–0.9580\n",
      "Class 11: 40 instances selected (out of 831), Confidence range: 0.9503–0.9614\n",
      "Class 12: 40 instances selected (out of 1365), Confidence range: 0.9602–0.9684\n",
      "Class 13: 40 instances selected (out of 708), Confidence range: 0.9689–0.9756\n",
      "Class 14: 40 instances selected (out of 1200), Confidence range: 0.9306–0.9542\n",
      "\n",
      "Training set size after this round: 22400\n",
      "Remaining unlabeled examples after this round: 17598\n"
     ]
    },
    {
     "data": {
      "text/html": [],
      "text/plain": [
       "<IPython.core.display.HTML object>"
      ]
     },
     "metadata": {},
     "output_type": "display_data"
    },
    {
     "name": "stdout",
     "output_type": "stream",
     "text": [
      "Metrics on Filipino Validation Set: {'accuracy': 0.3434991974317817, 'f1': 0.3749950998116085, 'rmse': np.float64(4.2438228170752765)}\n"
     ]
    },
    {
     "data": {
      "text/html": [],
      "text/plain": [
       "<IPython.core.display.HTML object>"
      ]
     },
     "metadata": {},
     "output_type": "display_data"
    },
    {
     "name": "stdout",
     "output_type": "stream",
     "text": [
      "Metrics on English validation Set: {'accuracy': 0.6894, 'f1': 0.6888677507371139, 'rmse': np.float64(3.3746999866654814)}\n",
      "\n",
      "SELF-LEARNING ITERATION 5/5\n"
     ]
    },
    {
     "name": "stderr",
     "output_type": "stream",
     "text": [
      "Some weights of BertForSequenceClassification were not initialized from the model checkpoint at bert-base-multilingual-cased and are newly initialized: ['classifier.bias', 'classifier.weight']\n",
      "You should probably TRAIN this model on a down-stream task to be able to use it for predictions and inference.\n",
      "Map: 100%|██████████| 22400/22400 [00:01<00:00, 21580.59 examples/s]\n",
      "C:\\Users\\User\\AppData\\Local\\Temp\\ipykernel_25352\\3903225634.py:4: FutureWarning: `tokenizer` is deprecated and will be removed in version 5.0.0 for `CustomTrainer.__init__`. Use `processing_class` instead.\n",
      "  super().__init__(*args, **kwargs)\n"
     ]
    },
    {
     "data": {
      "text/html": [
       "\n",
       "    <div>\n",
       "      \n",
       "      <progress value='2100' max='2100' style='width:300px; height:20px; vertical-align: middle;'></progress>\n",
       "      [2100/2100 2:49:18, Epoch 3/3]\n",
       "    </div>\n",
       "    <table border=\"1\" class=\"dataframe\">\n",
       "  <thead>\n",
       " <tr style=\"text-align: left;\">\n",
       "      <th>Epoch</th>\n",
       "      <th>Training Loss</th>\n",
       "      <th>Validation Loss</th>\n",
       "      <th>Accuracy</th>\n",
       "      <th>F1</th>\n",
       "      <th>Rmse</th>\n",
       "    </tr>\n",
       "  </thead>\n",
       "  <tbody>\n",
       "    <tr>\n",
       "      <td>1</td>\n",
       "      <td>1.460000</td>\n",
       "      <td>2.495588</td>\n",
       "      <td>0.312801</td>\n",
       "      <td>0.348815</td>\n",
       "      <td>4.402730</td>\n",
       "    </tr>\n",
       "    <tr>\n",
       "      <td>2</td>\n",
       "      <td>0.895000</td>\n",
       "      <td>2.655610</td>\n",
       "      <td>0.333467</td>\n",
       "      <td>0.364908</td>\n",
       "      <td>4.288479</td>\n",
       "    </tr>\n",
       "    <tr>\n",
       "      <td>3</td>\n",
       "      <td>0.671700</td>\n",
       "      <td>2.767834</td>\n",
       "      <td>0.339286</td>\n",
       "      <td>0.371824</td>\n",
       "      <td>4.274960</td>\n",
       "    </tr>\n",
       "  </tbody>\n",
       "</table><p>"
      ],
      "text/plain": [
       "<IPython.core.display.HTML object>"
      ]
     },
     "metadata": {},
     "output_type": "display_data"
    },
    {
     "data": {
      "text/html": [],
      "text/plain": [
       "<IPython.core.display.HTML object>"
      ]
     },
     "metadata": {},
     "output_type": "display_data"
    },
    {
     "name": "stdout",
     "output_type": "stream",
     "text": [
      "Metrics on Filipino Validation Set: {'accuracy': 0.3392857142857143, 'f1': 0.3718241072539561, 'rmse': np.float64(4.274959754065107)}\n"
     ]
    },
    {
     "data": {
      "text/html": [],
      "text/plain": [
       "<IPython.core.display.HTML object>"
      ]
     },
     "metadata": {},
     "output_type": "display_data"
    },
    {
     "name": "stdout",
     "output_type": "stream",
     "text": [
      "Metrics on English validation Set: {'accuracy': 0.6906, 'f1': 0.689702525400022, 'rmse': np.float64(3.3487012407797745)}\n",
      "\n",
      "Best overall model was from iteration 1, epoch 3.0 with F1 = 0.4587\n"
     ]
    }
   ],
   "source": [
    "self_training_loop()"
   ]
  },
  {
   "cell_type": "markdown",
   "id": "0a5d54d3",
   "metadata": {},
   "source": [
    "### XLM-RoBERTa"
   ]
  },
  {
   "cell_type": "code",
   "execution_count": 40,
   "id": "c5b8d598",
   "metadata": {},
   "outputs": [
    {
     "name": "stderr",
     "output_type": "stream",
     "text": [
      "Map: 100%|██████████| 20000/20000 [00:00<00:00, 24736.33 examples/s]\n",
      "Map: 100%|██████████| 19998/19998 [00:00<00:00, 21720.05 examples/s]\n",
      "Map: 100%|██████████| 4984/4984 [00:00<00:00, 15021.13 examples/s]\n",
      "Map: 100%|██████████| 5000/5000 [00:00<00:00, 24648.95 examples/s]\n"
     ]
    },
    {
     "name": "stdout",
     "output_type": "stream",
     "text": [
      "\n",
      "SELF-LEARNING ITERATION 1/5\n"
     ]
    },
    {
     "name": "stderr",
     "output_type": "stream",
     "text": [
      "Some weights of BertForSequenceClassification were not initialized from the model checkpoint at bert-base-multilingual-cased and are newly initialized: ['classifier.bias', 'classifier.weight']\n",
      "You should probably TRAIN this model on a down-stream task to be able to use it for predictions and inference.\n",
      "Map: 100%|██████████| 20000/20000 [00:00<00:00, 21904.20 examples/s]\n",
      "C:\\Users\\User\\AppData\\Local\\Temp\\ipykernel_25352\\3903225634.py:4: FutureWarning: `tokenizer` is deprecated and will be removed in version 5.0.0 for `CustomTrainer.__init__`. Use `processing_class` instead.\n",
      "  super().__init__(*args, **kwargs)\n"
     ]
    },
    {
     "data": {
      "text/html": [
       "\n",
       "    <div>\n",
       "      \n",
       "      <progress value='1875' max='1875' style='width:300px; height:20px; vertical-align: middle;'></progress>\n",
       "      [1875/1875 2:57:06, Epoch 3/3]\n",
       "    </div>\n",
       "    <table border=\"1\" class=\"dataframe\">\n",
       "  <thead>\n",
       " <tr style=\"text-align: left;\">\n",
       "      <th>Epoch</th>\n",
       "      <th>Training Loss</th>\n",
       "      <th>Validation Loss</th>\n",
       "      <th>Accuracy</th>\n",
       "      <th>F1</th>\n",
       "      <th>Rmse</th>\n",
       "    </tr>\n",
       "  </thead>\n",
       "  <tbody>\n",
       "    <tr>\n",
       "      <td>1</td>\n",
       "      <td>1.623100</td>\n",
       "      <td>1.836078</td>\n",
       "      <td>0.434791</td>\n",
       "      <td>0.444250</td>\n",
       "      <td>4.435375</td>\n",
       "    </tr>\n",
       "    <tr>\n",
       "      <td>2</td>\n",
       "      <td>1.008200</td>\n",
       "      <td>1.965006</td>\n",
       "      <td>0.421148</td>\n",
       "      <td>0.439205</td>\n",
       "      <td>4.353164</td>\n",
       "    </tr>\n",
       "    <tr>\n",
       "      <td>3</td>\n",
       "      <td>0.759900</td>\n",
       "      <td>1.953064</td>\n",
       "      <td>0.441011</td>\n",
       "      <td>0.458741</td>\n",
       "      <td>4.232366</td>\n",
       "    </tr>\n",
       "  </tbody>\n",
       "</table><p>"
      ],
      "text/plain": [
       "<IPython.core.display.HTML object>"
      ]
     },
     "metadata": {},
     "output_type": "display_data"
    },
    {
     "data": {
      "text/html": [],
      "text/plain": [
       "<IPython.core.display.HTML object>"
      ]
     },
     "metadata": {},
     "output_type": "display_data"
    },
    {
     "name": "stdout",
     "output_type": "stream",
     "text": [
      "Pseudo-labeled instance count per class:\n",
      "Class 0: 40 instances selected (out of 791), Confidence range: 0.9181–0.9498\n",
      "Class 1: 40 instances selected (out of 1616), Confidence range: 0.8163–0.8618\n",
      "Class 2: 40 instances selected (out of 371), Confidence range: 0.9357–0.9631\n",
      "Class 3: 40 instances selected (out of 79), Confidence range: 0.5519–0.9036\n",
      "Class 4: 40 instances selected (out of 143), Confidence range: 0.7109–0.9436\n",
      "Class 5: 40 instances selected (out of 769), Confidence range: 0.9213–0.9352\n",
      "Class 6: 40 instances selected (out of 2557), Confidence range: 0.9771–0.9798\n",
      "Class 7: 40 instances selected (out of 584), Confidence range: 0.9017–0.9551\n",
      "Class 8: 40 instances selected (out of 2159), Confidence range: 0.9700–0.9721\n",
      "Class 9: 40 instances selected (out of 3066), Confidence range: 0.8990–0.9256\n",
      "Class 10: 40 instances selected (out of 374), Confidence range: 0.6817–0.8714\n",
      "Class 11: 40 instances selected (out of 223), Confidence range: 0.7922–0.9358\n",
      "Class 12: 40 instances selected (out of 2375), Confidence range: 0.9615–0.9661\n",
      "Class 13: 40 instances selected (out of 647), Confidence range: 0.9577–0.9673\n",
      "Class 14: 40 instances selected (out of 4244), Confidence range: 0.9159–0.9294\n",
      "\n",
      "Training set size after this round: 20600\n",
      "Remaining unlabeled examples after this round: 19398\n"
     ]
    },
    {
     "data": {
      "text/html": [],
      "text/plain": [
       "<IPython.core.display.HTML object>"
      ]
     },
     "metadata": {},
     "output_type": "display_data"
    },
    {
     "name": "stdout",
     "output_type": "stream",
     "text": [
      "Metrics on Filipino Validation Set: {'accuracy': 0.4410112359550562, 'f1': 0.4587407732423319, 'rmse': np.float64(4.232365927978654)}\n"
     ]
    },
    {
     "data": {
      "text/html": [],
      "text/plain": [
       "<IPython.core.display.HTML object>"
      ]
     },
     "metadata": {},
     "output_type": "display_data"
    },
    {
     "name": "stdout",
     "output_type": "stream",
     "text": [
      "Metrics on English validation Set: {'accuracy': 0.6906, 'f1': 0.689478321905268, 'rmse': np.float64(3.421841609426129)}\n",
      "New best model found on iteration 1, epoch 3.0 with F1 = 0.4587\n",
      "\n",
      "SELF-LEARNING ITERATION 2/5\n"
     ]
    },
    {
     "name": "stderr",
     "output_type": "stream",
     "text": [
      "Some weights of BertForSequenceClassification were not initialized from the model checkpoint at bert-base-multilingual-cased and are newly initialized: ['classifier.bias', 'classifier.weight']\n",
      "You should probably TRAIN this model on a down-stream task to be able to use it for predictions and inference.\n",
      "Map: 100%|██████████| 20600/20600 [00:01<00:00, 13817.05 examples/s]\n",
      "C:\\Users\\User\\AppData\\Local\\Temp\\ipykernel_25352\\3903225634.py:4: FutureWarning: `tokenizer` is deprecated and will be removed in version 5.0.0 for `CustomTrainer.__init__`. Use `processing_class` instead.\n",
      "  super().__init__(*args, **kwargs)\n"
     ]
    },
    {
     "data": {
      "text/html": [
       "\n",
       "    <div>\n",
       "      \n",
       "      <progress value='1932' max='1932' style='width:300px; height:20px; vertical-align: middle;'></progress>\n",
       "      [1932/1932 3:02:09, Epoch 3/3]\n",
       "    </div>\n",
       "    <table border=\"1\" class=\"dataframe\">\n",
       "  <thead>\n",
       " <tr style=\"text-align: left;\">\n",
       "      <th>Epoch</th>\n",
       "      <th>Training Loss</th>\n",
       "      <th>Validation Loss</th>\n",
       "      <th>Accuracy</th>\n",
       "      <th>F1</th>\n",
       "      <th>Rmse</th>\n",
       "    </tr>\n",
       "  </thead>\n",
       "  <tbody>\n",
       "    <tr>\n",
       "      <td>1</td>\n",
       "      <td>1.545200</td>\n",
       "      <td>2.062803</td>\n",
       "      <td>0.368579</td>\n",
       "      <td>0.390707</td>\n",
       "      <td>4.268924</td>\n",
       "    </tr>\n",
       "    <tr>\n",
       "      <td>2</td>\n",
       "      <td>0.966400</td>\n",
       "      <td>2.140092</td>\n",
       "      <td>0.393459</td>\n",
       "      <td>0.424088</td>\n",
       "      <td>4.195895</td>\n",
       "    </tr>\n",
       "    <tr>\n",
       "      <td>3</td>\n",
       "      <td>0.734700</td>\n",
       "      <td>2.221549</td>\n",
       "      <td>0.388644</td>\n",
       "      <td>0.419401</td>\n",
       "      <td>4.130083</td>\n",
       "    </tr>\n",
       "  </tbody>\n",
       "</table><p>"
      ],
      "text/plain": [
       "<IPython.core.display.HTML object>"
      ]
     },
     "metadata": {},
     "output_type": "display_data"
    },
    {
     "data": {
      "text/html": [],
      "text/plain": [
       "<IPython.core.display.HTML object>"
      ]
     },
     "metadata": {},
     "output_type": "display_data"
    },
    {
     "name": "stdout",
     "output_type": "stream",
     "text": [
      "Pseudo-labeled instance count per class:\n",
      "Class 0: 40 instances selected (out of 1052), Confidence range: 0.9364–0.9512\n",
      "Class 1: 40 instances selected (out of 1414), Confidence range: 0.8041–0.8723\n",
      "Class 2: 40 instances selected (out of 294), Confidence range: 0.9271–0.9550\n",
      "Class 3: 40 instances selected (out of 234), Confidence range: 0.6925–0.9077\n",
      "Class 4: 40 instances selected (out of 628), Confidence range: 0.8531–0.9388\n",
      "Class 5: 40 instances selected (out of 1218), Confidence range: 0.8867–0.9269\n",
      "Class 6: 40 instances selected (out of 2029), Confidence range: 0.9681–0.9728\n",
      "Class 7: 40 instances selected (out of 647), Confidence range: 0.9143–0.9457\n",
      "Class 8: 40 instances selected (out of 2067), Confidence range: 0.9657–0.9686\n",
      "Class 9: 40 instances selected (out of 2677), Confidence range: 0.8742–0.9075\n",
      "Class 10: 40 instances selected (out of 1396), Confidence range: 0.8662–0.9031\n",
      "Class 11: 40 instances selected (out of 333), Confidence range: 0.8563–0.9255\n",
      "Class 12: 40 instances selected (out of 2049), Confidence range: 0.9511–0.9587\n",
      "Class 13: 40 instances selected (out of 699), Confidence range: 0.9481–0.9607\n",
      "Class 14: 40 instances selected (out of 2661), Confidence range: 0.9304–0.9400\n",
      "\n",
      "Training set size after this round: 21200\n",
      "Remaining unlabeled examples after this round: 18798\n"
     ]
    },
    {
     "data": {
      "text/html": [],
      "text/plain": [
       "<IPython.core.display.HTML object>"
      ]
     },
     "metadata": {},
     "output_type": "display_data"
    },
    {
     "name": "stdout",
     "output_type": "stream",
     "text": [
      "Metrics on Filipino Validation Set: {'accuracy': 0.39345906902086675, 'f1': 0.42408771241429094, 'rmse': np.float64(4.1958953419629355)}\n"
     ]
    },
    {
     "data": {
      "text/html": [],
      "text/plain": [
       "<IPython.core.display.HTML object>"
      ]
     },
     "metadata": {},
     "output_type": "display_data"
    },
    {
     "name": "stdout",
     "output_type": "stream",
     "text": [
      "Metrics on English validation Set: {'accuracy': 0.6866, 'f1': 0.6855292050832662, 'rmse': np.float64(3.4478108996869303)}\n",
      "\n",
      "SELF-LEARNING ITERATION 3/5\n"
     ]
    },
    {
     "name": "stderr",
     "output_type": "stream",
     "text": [
      "Some weights of BertForSequenceClassification were not initialized from the model checkpoint at bert-base-multilingual-cased and are newly initialized: ['classifier.bias', 'classifier.weight']\n",
      "You should probably TRAIN this model on a down-stream task to be able to use it for predictions and inference.\n",
      "Map: 100%|██████████| 21200/21200 [00:01<00:00, 14523.76 examples/s]\n",
      "C:\\Users\\User\\AppData\\Local\\Temp\\ipykernel_25352\\3903225634.py:4: FutureWarning: `tokenizer` is deprecated and will be removed in version 5.0.0 for `CustomTrainer.__init__`. Use `processing_class` instead.\n",
      "  super().__init__(*args, **kwargs)\n"
     ]
    },
    {
     "data": {
      "text/html": [
       "\n",
       "    <div>\n",
       "      \n",
       "      <progress value='1989' max='1989' style='width:300px; height:20px; vertical-align: middle;'></progress>\n",
       "      [1989/1989 3:06:49, Epoch 3/3]\n",
       "    </div>\n",
       "    <table border=\"1\" class=\"dataframe\">\n",
       "  <thead>\n",
       " <tr style=\"text-align: left;\">\n",
       "      <th>Epoch</th>\n",
       "      <th>Training Loss</th>\n",
       "      <th>Validation Loss</th>\n",
       "      <th>Accuracy</th>\n",
       "      <th>F1</th>\n",
       "      <th>Rmse</th>\n",
       "    </tr>\n",
       "  </thead>\n",
       "  <tbody>\n",
       "    <tr>\n",
       "      <td>1</td>\n",
       "      <td>1.534700</td>\n",
       "      <td>2.241271</td>\n",
       "      <td>0.342295</td>\n",
       "      <td>0.372288</td>\n",
       "      <td>4.415358</td>\n",
       "    </tr>\n",
       "    <tr>\n",
       "      <td>2</td>\n",
       "      <td>0.933800</td>\n",
       "      <td>2.334151</td>\n",
       "      <td>0.356340</td>\n",
       "      <td>0.386868</td>\n",
       "      <td>4.197736</td>\n",
       "    </tr>\n",
       "    <tr>\n",
       "      <td>3</td>\n",
       "      <td>0.700000</td>\n",
       "      <td>2.359192</td>\n",
       "      <td>0.364767</td>\n",
       "      <td>0.398668</td>\n",
       "      <td>4.170065</td>\n",
       "    </tr>\n",
       "  </tbody>\n",
       "</table><p>"
      ],
      "text/plain": [
       "<IPython.core.display.HTML object>"
      ]
     },
     "metadata": {},
     "output_type": "display_data"
    },
    {
     "data": {
      "text/html": [],
      "text/plain": [
       "<IPython.core.display.HTML object>"
      ]
     },
     "metadata": {},
     "output_type": "display_data"
    },
    {
     "name": "stdout",
     "output_type": "stream",
     "text": [
      "Pseudo-labeled instance count per class:\n",
      "Class 0: 40 instances selected (out of 1050), Confidence range: 0.9643–0.9707\n",
      "Class 1: 40 instances selected (out of 1338), Confidence range: 0.8855–0.9123\n",
      "Class 2: 40 instances selected (out of 332), Confidence range: 0.9551–0.9701\n",
      "Class 3: 40 instances selected (out of 515), Confidence range: 0.8719–0.9351\n",
      "Class 4: 40 instances selected (out of 699), Confidence range: 0.9181–0.9591\n",
      "Class 5: 40 instances selected (out of 1066), Confidence range: 0.9307–0.9498\n",
      "Class 6: 40 instances selected (out of 1850), Confidence range: 0.9726–0.9760\n",
      "Class 7: 40 instances selected (out of 972), Confidence range: 0.9559–0.9670\n",
      "Class 8: 40 instances selected (out of 2014), Confidence range: 0.9726–0.9740\n",
      "Class 9: 40 instances selected (out of 2614), Confidence range: 0.9247–0.9442\n",
      "Class 10: 40 instances selected (out of 1664), Confidence range: 0.9339–0.9440\n",
      "Class 11: 40 instances selected (out of 762), Confidence range: 0.9507–0.9652\n",
      "Class 12: 40 instances selected (out of 1530), Confidence range: 0.9693–0.9739\n",
      "Class 13: 40 instances selected (out of 657), Confidence range: 0.9646–0.9692\n",
      "Class 14: 40 instances selected (out of 1735), Confidence range: 0.9393–0.9485\n",
      "\n",
      "Training set size after this round: 21800\n",
      "Remaining unlabeled examples after this round: 18198\n"
     ]
    },
    {
     "data": {
      "text/html": [],
      "text/plain": [
       "<IPython.core.display.HTML object>"
      ]
     },
     "metadata": {},
     "output_type": "display_data"
    },
    {
     "name": "stdout",
     "output_type": "stream",
     "text": [
      "Metrics on Filipino Validation Set: {'accuracy': 0.3647672552166934, 'f1': 0.3986676154162394, 'rmse': np.float64(4.170065494441229)}\n"
     ]
    },
    {
     "data": {
      "text/html": [],
      "text/plain": [
       "<IPython.core.display.HTML object>"
      ]
     },
     "metadata": {},
     "output_type": "display_data"
    },
    {
     "name": "stdout",
     "output_type": "stream",
     "text": [
      "Metrics on English validation Set: {'accuracy': 0.696, 'f1': 0.694937290834445, 'rmse': np.float64(3.3450859480736814)}\n",
      "\n",
      "SELF-LEARNING ITERATION 4/5\n"
     ]
    },
    {
     "name": "stderr",
     "output_type": "stream",
     "text": [
      "Some weights of BertForSequenceClassification were not initialized from the model checkpoint at bert-base-multilingual-cased and are newly initialized: ['classifier.bias', 'classifier.weight']\n",
      "You should probably TRAIN this model on a down-stream task to be able to use it for predictions and inference.\n",
      "Map: 100%|██████████| 21800/21800 [00:01<00:00, 14132.60 examples/s]\n",
      "C:\\Users\\User\\AppData\\Local\\Temp\\ipykernel_25352\\3903225634.py:4: FutureWarning: `tokenizer` is deprecated and will be removed in version 5.0.0 for `CustomTrainer.__init__`. Use `processing_class` instead.\n",
      "  super().__init__(*args, **kwargs)\n"
     ]
    },
    {
     "data": {
      "text/html": [
       "\n",
       "    <div>\n",
       "      \n",
       "      <progress value='2046' max='2046' style='width:300px; height:20px; vertical-align: middle;'></progress>\n",
       "      [2046/2046 3:11:45, Epoch 3/3]\n",
       "    </div>\n",
       "    <table border=\"1\" class=\"dataframe\">\n",
       "  <thead>\n",
       " <tr style=\"text-align: left;\">\n",
       "      <th>Epoch</th>\n",
       "      <th>Training Loss</th>\n",
       "      <th>Validation Loss</th>\n",
       "      <th>Accuracy</th>\n",
       "      <th>F1</th>\n",
       "      <th>Rmse</th>\n",
       "    </tr>\n",
       "  </thead>\n",
       "  <tbody>\n",
       "    <tr>\n",
       "      <td>1</td>\n",
       "      <td>1.497900</td>\n",
       "      <td>2.441643</td>\n",
       "      <td>0.309591</td>\n",
       "      <td>0.333653</td>\n",
       "      <td>4.294744</td>\n",
       "    </tr>\n",
       "    <tr>\n",
       "      <td>2</td>\n",
       "      <td>0.920400</td>\n",
       "      <td>2.474061</td>\n",
       "      <td>0.338684</td>\n",
       "      <td>0.369457</td>\n",
       "      <td>4.231347</td>\n",
       "    </tr>\n",
       "    <tr>\n",
       "      <td>3</td>\n",
       "      <td>0.693100</td>\n",
       "      <td>2.581924</td>\n",
       "      <td>0.343499</td>\n",
       "      <td>0.374995</td>\n",
       "      <td>4.243823</td>\n",
       "    </tr>\n",
       "  </tbody>\n",
       "</table><p>"
      ],
      "text/plain": [
       "<IPython.core.display.HTML object>"
      ]
     },
     "metadata": {},
     "output_type": "display_data"
    },
    {
     "data": {
      "text/html": [],
      "text/plain": [
       "<IPython.core.display.HTML object>"
      ]
     },
     "metadata": {},
     "output_type": "display_data"
    },
    {
     "name": "stdout",
     "output_type": "stream",
     "text": [
      "Pseudo-labeled instance count per class:\n",
      "Class 0: 40 instances selected (out of 884), Confidence range: 0.9518–0.9600\n",
      "Class 1: 40 instances selected (out of 1463), Confidence range: 0.9094–0.9270\n",
      "Class 2: 40 instances selected (out of 363), Confidence range: 0.9573–0.9704\n",
      "Class 3: 40 instances selected (out of 920), Confidence range: 0.9297–0.9547\n",
      "Class 4: 40 instances selected (out of 898), Confidence range: 0.9309–0.9644\n",
      "Class 5: 40 instances selected (out of 869), Confidence range: 0.9312–0.9504\n",
      "Class 6: 40 instances selected (out of 1572), Confidence range: 0.9709–0.9743\n",
      "Class 7: 40 instances selected (out of 1028), Confidence range: 0.9594–0.9675\n",
      "Class 8: 40 instances selected (out of 1824), Confidence range: 0.9739–0.9758\n",
      "Class 9: 40 instances selected (out of 2500), Confidence range: 0.9455–0.9595\n",
      "Class 10: 40 instances selected (out of 1773), Confidence range: 0.9510–0.9580\n",
      "Class 11: 40 instances selected (out of 831), Confidence range: 0.9503–0.9614\n",
      "Class 12: 40 instances selected (out of 1365), Confidence range: 0.9602–0.9684\n",
      "Class 13: 40 instances selected (out of 708), Confidence range: 0.9689–0.9756\n",
      "Class 14: 40 instances selected (out of 1200), Confidence range: 0.9306–0.9542\n",
      "\n",
      "Training set size after this round: 22400\n",
      "Remaining unlabeled examples after this round: 17598\n"
     ]
    },
    {
     "data": {
      "text/html": [],
      "text/plain": [
       "<IPython.core.display.HTML object>"
      ]
     },
     "metadata": {},
     "output_type": "display_data"
    },
    {
     "name": "stdout",
     "output_type": "stream",
     "text": [
      "Metrics on Filipino Validation Set: {'accuracy': 0.3434991974317817, 'f1': 0.3749950998116085, 'rmse': np.float64(4.2438228170752765)}\n"
     ]
    },
    {
     "data": {
      "text/html": [],
      "text/plain": [
       "<IPython.core.display.HTML object>"
      ]
     },
     "metadata": {},
     "output_type": "display_data"
    },
    {
     "name": "stdout",
     "output_type": "stream",
     "text": [
      "Metrics on English validation Set: {'accuracy': 0.6894, 'f1': 0.6888677507371139, 'rmse': np.float64(3.3746999866654814)}\n",
      "\n",
      "SELF-LEARNING ITERATION 5/5\n"
     ]
    },
    {
     "name": "stderr",
     "output_type": "stream",
     "text": [
      "Some weights of BertForSequenceClassification were not initialized from the model checkpoint at bert-base-multilingual-cased and are newly initialized: ['classifier.bias', 'classifier.weight']\n",
      "You should probably TRAIN this model on a down-stream task to be able to use it for predictions and inference.\n",
      "Map: 100%|██████████| 22400/22400 [00:01<00:00, 14517.65 examples/s]\n",
      "C:\\Users\\User\\AppData\\Local\\Temp\\ipykernel_25352\\3903225634.py:4: FutureWarning: `tokenizer` is deprecated and will be removed in version 5.0.0 for `CustomTrainer.__init__`. Use `processing_class` instead.\n",
      "  super().__init__(*args, **kwargs)\n"
     ]
    },
    {
     "data": {
      "text/html": [
       "\n",
       "    <div>\n",
       "      \n",
       "      <progress value='2100' max='2100' style='width:300px; height:20px; vertical-align: middle;'></progress>\n",
       "      [2100/2100 3:16:58, Epoch 3/3]\n",
       "    </div>\n",
       "    <table border=\"1\" class=\"dataframe\">\n",
       "  <thead>\n",
       " <tr style=\"text-align: left;\">\n",
       "      <th>Epoch</th>\n",
       "      <th>Training Loss</th>\n",
       "      <th>Validation Loss</th>\n",
       "      <th>Accuracy</th>\n",
       "      <th>F1</th>\n",
       "      <th>Rmse</th>\n",
       "    </tr>\n",
       "  </thead>\n",
       "  <tbody>\n",
       "    <tr>\n",
       "      <td>1</td>\n",
       "      <td>1.460000</td>\n",
       "      <td>2.495588</td>\n",
       "      <td>0.312801</td>\n",
       "      <td>0.348815</td>\n",
       "      <td>4.402730</td>\n",
       "    </tr>\n",
       "    <tr>\n",
       "      <td>2</td>\n",
       "      <td>0.895000</td>\n",
       "      <td>2.655610</td>\n",
       "      <td>0.333467</td>\n",
       "      <td>0.364908</td>\n",
       "      <td>4.288479</td>\n",
       "    </tr>\n",
       "    <tr>\n",
       "      <td>3</td>\n",
       "      <td>0.671700</td>\n",
       "      <td>2.767834</td>\n",
       "      <td>0.339286</td>\n",
       "      <td>0.371824</td>\n",
       "      <td>4.274960</td>\n",
       "    </tr>\n",
       "  </tbody>\n",
       "</table><p>"
      ],
      "text/plain": [
       "<IPython.core.display.HTML object>"
      ]
     },
     "metadata": {},
     "output_type": "display_data"
    },
    {
     "data": {
      "text/html": [],
      "text/plain": [
       "<IPython.core.display.HTML object>"
      ]
     },
     "metadata": {},
     "output_type": "display_data"
    },
    {
     "name": "stdout",
     "output_type": "stream",
     "text": [
      "Metrics on Filipino Validation Set: {'accuracy': 0.3392857142857143, 'f1': 0.3718241072539561, 'rmse': np.float64(4.274959754065107)}\n"
     ]
    },
    {
     "data": {
      "text/html": [],
      "text/plain": [
       "<IPython.core.display.HTML object>"
      ]
     },
     "metadata": {},
     "output_type": "display_data"
    },
    {
     "name": "stdout",
     "output_type": "stream",
     "text": [
      "Metrics on English validation Set: {'accuracy': 0.6906, 'f1': 0.689702525400022, 'rmse': np.float64(3.3487012407797745)}\n",
      "\n",
      "Best overall model was from iteration 1, epoch 3.0 with F1 = 0.4587\n"
     ]
    }
   ],
   "source": [
    "self_training_loop()"
   ]
  },
  {
   "cell_type": "markdown",
   "id": "aeeb10b3",
   "metadata": {},
   "source": [
    "## **Self-learning with Adversarial**"
   ]
  },
  {
   "cell_type": "markdown",
   "id": "ebe80d01",
   "metadata": {},
   "source": [
    "### mBERT"
   ]
  },
  {
   "cell_type": "code",
   "execution_count": 60,
   "id": "a9fda7ca",
   "metadata": {},
   "outputs": [
    {
     "name": "stderr",
     "output_type": "stream",
     "text": [
      "Map: 100%|██████████| 20000/20000 [00:00<00:00, 25605.97 examples/s]\n",
      "Map: 100%|██████████| 19998/19998 [00:00<00:00, 21881.98 examples/s]\n",
      "Map: 100%|██████████| 4984/4984 [00:00<00:00, 15276.87 examples/s]\n",
      "Map: 100%|██████████| 5000/5000 [00:00<00:00, 26140.42 examples/s]\n"
     ]
    },
    {
     "name": "stdout",
     "output_type": "stream",
     "text": [
      "\n",
      "SELF-LEARNING ITERATION 1/5\n"
     ]
    },
    {
     "name": "stderr",
     "output_type": "stream",
     "text": [
      "Some weights of BertForSequenceClassification were not initialized from the model checkpoint at bert-base-multilingual-cased and are newly initialized: ['classifier.bias', 'classifier.weight']\n",
      "You should probably TRAIN this model on a down-stream task to be able to use it for predictions and inference.\n",
      "Map: 100%|██████████| 20000/20000 [00:00<00:00, 21915.58 examples/s]\n",
      "C:\\Users\\User\\AppData\\Local\\Temp\\ipykernel_25352\\3903225634.py:4: FutureWarning: `tokenizer` is deprecated and will be removed in version 5.0.0 for `CustomTrainer.__init__`. Use `processing_class` instead.\n",
      "  super().__init__(*args, **kwargs)\n"
     ]
    },
    {
     "data": {
      "text/html": [
       "\n",
       "    <div>\n",
       "      \n",
       "      <progress value='1875' max='1875' style='width:300px; height:20px; vertical-align: middle;'></progress>\n",
       "      [1875/1875 2:33:01, Epoch 3/3]\n",
       "    </div>\n",
       "    <table border=\"1\" class=\"dataframe\">\n",
       "  <thead>\n",
       " <tr style=\"text-align: left;\">\n",
       "      <th>Epoch</th>\n",
       "      <th>Training Loss</th>\n",
       "      <th>Validation Loss</th>\n",
       "      <th>Accuracy</th>\n",
       "      <th>F1</th>\n",
       "      <th>Rmse</th>\n",
       "    </tr>\n",
       "  </thead>\n",
       "  <tbody>\n",
       "    <tr>\n",
       "      <td>1</td>\n",
       "      <td>1.623100</td>\n",
       "      <td>1.836078</td>\n",
       "      <td>0.434791</td>\n",
       "      <td>0.444250</td>\n",
       "      <td>4.435375</td>\n",
       "    </tr>\n",
       "    <tr>\n",
       "      <td>2</td>\n",
       "      <td>1.008200</td>\n",
       "      <td>1.965006</td>\n",
       "      <td>0.421148</td>\n",
       "      <td>0.439205</td>\n",
       "      <td>4.353164</td>\n",
       "    </tr>\n",
       "    <tr>\n",
       "      <td>3</td>\n",
       "      <td>0.759900</td>\n",
       "      <td>1.953064</td>\n",
       "      <td>0.441011</td>\n",
       "      <td>0.458741</td>\n",
       "      <td>4.232366</td>\n",
       "    </tr>\n",
       "  </tbody>\n",
       "</table><p>"
      ],
      "text/plain": [
       "<IPython.core.display.HTML object>"
      ]
     },
     "metadata": {},
     "output_type": "display_data"
    },
    {
     "data": {
      "text/html": [],
      "text/plain": [
       "<IPython.core.display.HTML object>"
      ]
     },
     "metadata": {},
     "output_type": "display_data"
    },
    {
     "name": "stdout",
     "output_type": "stream",
     "text": [
      "Pseudo-labeled instance count per class:\n",
      "Class 0: 40 instances selected (out of 791), Confidence range: 0.9181–0.9498\n",
      "Class 1: 40 instances selected (out of 1616), Confidence range: 0.8163–0.8618\n",
      "Class 2: 40 instances selected (out of 371), Confidence range: 0.9357–0.9631\n",
      "Class 3: 40 instances selected (out of 79), Confidence range: 0.5519–0.9036\n",
      "Class 4: 40 instances selected (out of 143), Confidence range: 0.7109–0.9436\n",
      "Class 5: 40 instances selected (out of 769), Confidence range: 0.9213–0.9352\n",
      "Class 6: 40 instances selected (out of 2557), Confidence range: 0.9771–0.9798\n",
      "Class 7: 40 instances selected (out of 584), Confidence range: 0.9017–0.9551\n",
      "Class 8: 40 instances selected (out of 2159), Confidence range: 0.9700–0.9721\n",
      "Class 9: 40 instances selected (out of 3066), Confidence range: 0.8990–0.9256\n",
      "Class 10: 40 instances selected (out of 374), Confidence range: 0.6817–0.8714\n",
      "Class 11: 40 instances selected (out of 223), Confidence range: 0.7922–0.9358\n",
      "Class 12: 40 instances selected (out of 2375), Confidence range: 0.9615–0.9661\n",
      "Class 13: 40 instances selected (out of 647), Confidence range: 0.9577–0.9673\n",
      "Class 14: 40 instances selected (out of 4244), Confidence range: 0.9159–0.9294\n",
      "\n",
      "Training set size after this round: 20600\n",
      "Remaining unlabeled examples after this round: 19398\n"
     ]
    },
    {
     "data": {
      "text/html": [],
      "text/plain": [
       "<IPython.core.display.HTML object>"
      ]
     },
     "metadata": {},
     "output_type": "display_data"
    },
    {
     "name": "stdout",
     "output_type": "stream",
     "text": [
      "Metrics on Filipino Validation Set: {'accuracy': 0.4410112359550562, 'f1': 0.4587407732423319, 'rmse': np.float64(4.232365927978654)}\n"
     ]
    },
    {
     "data": {
      "text/html": [],
      "text/plain": [
       "<IPython.core.display.HTML object>"
      ]
     },
     "metadata": {},
     "output_type": "display_data"
    },
    {
     "name": "stdout",
     "output_type": "stream",
     "text": [
      "Metrics on English validation Set: {'accuracy': 0.6906, 'f1': 0.689478321905268, 'rmse': np.float64(3.421841609426129)}\n",
      "New best model found on iteration 1, epoch 3.0 with F1 = 0.4587\n",
      "\n",
      "SELF-LEARNING ITERATION 2/5\n"
     ]
    },
    {
     "name": "stderr",
     "output_type": "stream",
     "text": [
      "Some weights of BertForSequenceClassification were not initialized from the model checkpoint at bert-base-multilingual-cased and are newly initialized: ['classifier.bias', 'classifier.weight']\n",
      "You should probably TRAIN this model on a down-stream task to be able to use it for predictions and inference.\n",
      "Map: 100%|██████████| 20600/20600 [00:00<00:00, 20970.75 examples/s]\n",
      "C:\\Users\\User\\AppData\\Local\\Temp\\ipykernel_25352\\3903225634.py:4: FutureWarning: `tokenizer` is deprecated and will be removed in version 5.0.0 for `CustomTrainer.__init__`. Use `processing_class` instead.\n",
      "  super().__init__(*args, **kwargs)\n"
     ]
    },
    {
     "data": {
      "text/html": [
       "\n",
       "    <div>\n",
       "      \n",
       "      <progress value='1932' max='1932' style='width:300px; height:20px; vertical-align: middle;'></progress>\n",
       "      [1932/1932 2:38:11, Epoch 3/3]\n",
       "    </div>\n",
       "    <table border=\"1\" class=\"dataframe\">\n",
       "  <thead>\n",
       " <tr style=\"text-align: left;\">\n",
       "      <th>Epoch</th>\n",
       "      <th>Training Loss</th>\n",
       "      <th>Validation Loss</th>\n",
       "      <th>Accuracy</th>\n",
       "      <th>F1</th>\n",
       "      <th>Rmse</th>\n",
       "    </tr>\n",
       "  </thead>\n",
       "  <tbody>\n",
       "    <tr>\n",
       "      <td>1</td>\n",
       "      <td>1.545200</td>\n",
       "      <td>2.062803</td>\n",
       "      <td>0.368579</td>\n",
       "      <td>0.390707</td>\n",
       "      <td>4.268924</td>\n",
       "    </tr>\n",
       "    <tr>\n",
       "      <td>2</td>\n",
       "      <td>0.966400</td>\n",
       "      <td>2.140092</td>\n",
       "      <td>0.393459</td>\n",
       "      <td>0.424088</td>\n",
       "      <td>4.195895</td>\n",
       "    </tr>\n",
       "    <tr>\n",
       "      <td>3</td>\n",
       "      <td>0.734700</td>\n",
       "      <td>2.221549</td>\n",
       "      <td>0.388644</td>\n",
       "      <td>0.419401</td>\n",
       "      <td>4.130083</td>\n",
       "    </tr>\n",
       "  </tbody>\n",
       "</table><p>"
      ],
      "text/plain": [
       "<IPython.core.display.HTML object>"
      ]
     },
     "metadata": {},
     "output_type": "display_data"
    },
    {
     "data": {
      "text/html": [],
      "text/plain": [
       "<IPython.core.display.HTML object>"
      ]
     },
     "metadata": {},
     "output_type": "display_data"
    },
    {
     "name": "stdout",
     "output_type": "stream",
     "text": [
      "Pseudo-labeled instance count per class:\n",
      "Class 0: 40 instances selected (out of 1052), Confidence range: 0.9364–0.9512\n",
      "Class 1: 40 instances selected (out of 1414), Confidence range: 0.8041–0.8723\n",
      "Class 2: 40 instances selected (out of 294), Confidence range: 0.9271–0.9550\n",
      "Class 3: 40 instances selected (out of 234), Confidence range: 0.6925–0.9077\n",
      "Class 4: 40 instances selected (out of 628), Confidence range: 0.8531–0.9388\n",
      "Class 5: 40 instances selected (out of 1218), Confidence range: 0.8867–0.9269\n",
      "Class 6: 40 instances selected (out of 2029), Confidence range: 0.9681–0.9728\n",
      "Class 7: 40 instances selected (out of 647), Confidence range: 0.9143–0.9457\n",
      "Class 8: 40 instances selected (out of 2067), Confidence range: 0.9657–0.9686\n",
      "Class 9: 40 instances selected (out of 2677), Confidence range: 0.8742–0.9075\n",
      "Class 10: 40 instances selected (out of 1396), Confidence range: 0.8662–0.9031\n",
      "Class 11: 40 instances selected (out of 333), Confidence range: 0.8563–0.9255\n",
      "Class 12: 40 instances selected (out of 2049), Confidence range: 0.9511–0.9587\n",
      "Class 13: 40 instances selected (out of 699), Confidence range: 0.9481–0.9607\n",
      "Class 14: 40 instances selected (out of 2661), Confidence range: 0.9304–0.9400\n",
      "\n",
      "Training set size after this round: 21200\n",
      "Remaining unlabeled examples after this round: 18798\n"
     ]
    },
    {
     "data": {
      "text/html": [],
      "text/plain": [
       "<IPython.core.display.HTML object>"
      ]
     },
     "metadata": {},
     "output_type": "display_data"
    },
    {
     "name": "stdout",
     "output_type": "stream",
     "text": [
      "Metrics on Filipino Validation Set: {'accuracy': 0.39345906902086675, 'f1': 0.42408771241429094, 'rmse': np.float64(4.1958953419629355)}\n"
     ]
    },
    {
     "data": {
      "text/html": [],
      "text/plain": [
       "<IPython.core.display.HTML object>"
      ]
     },
     "metadata": {},
     "output_type": "display_data"
    },
    {
     "name": "stdout",
     "output_type": "stream",
     "text": [
      "Metrics on English validation Set: {'accuracy': 0.6866, 'f1': 0.6855292050832662, 'rmse': np.float64(3.4478108996869303)}\n",
      "\n",
      "SELF-LEARNING ITERATION 3/5\n"
     ]
    },
    {
     "name": "stderr",
     "output_type": "stream",
     "text": [
      "Some weights of BertForSequenceClassification were not initialized from the model checkpoint at bert-base-multilingual-cased and are newly initialized: ['classifier.bias', 'classifier.weight']\n",
      "You should probably TRAIN this model on a down-stream task to be able to use it for predictions and inference.\n",
      "Map: 100%|██████████| 21200/21200 [00:00<00:00, 21631.78 examples/s]\n",
      "C:\\Users\\User\\AppData\\Local\\Temp\\ipykernel_25352\\3903225634.py:4: FutureWarning: `tokenizer` is deprecated and will be removed in version 5.0.0 for `CustomTrainer.__init__`. Use `processing_class` instead.\n",
      "  super().__init__(*args, **kwargs)\n"
     ]
    },
    {
     "data": {
      "text/html": [
       "\n",
       "    <div>\n",
       "      \n",
       "      <progress value='1989' max='1989' style='width:300px; height:20px; vertical-align: middle;'></progress>\n",
       "      [1989/1989 2:41:35, Epoch 3/3]\n",
       "    </div>\n",
       "    <table border=\"1\" class=\"dataframe\">\n",
       "  <thead>\n",
       " <tr style=\"text-align: left;\">\n",
       "      <th>Epoch</th>\n",
       "      <th>Training Loss</th>\n",
       "      <th>Validation Loss</th>\n",
       "      <th>Accuracy</th>\n",
       "      <th>F1</th>\n",
       "      <th>Rmse</th>\n",
       "    </tr>\n",
       "  </thead>\n",
       "  <tbody>\n",
       "    <tr>\n",
       "      <td>1</td>\n",
       "      <td>1.534700</td>\n",
       "      <td>2.241271</td>\n",
       "      <td>0.342295</td>\n",
       "      <td>0.372288</td>\n",
       "      <td>4.415358</td>\n",
       "    </tr>\n",
       "    <tr>\n",
       "      <td>2</td>\n",
       "      <td>0.933800</td>\n",
       "      <td>2.334151</td>\n",
       "      <td>0.356340</td>\n",
       "      <td>0.386868</td>\n",
       "      <td>4.197736</td>\n",
       "    </tr>\n",
       "    <tr>\n",
       "      <td>3</td>\n",
       "      <td>0.700000</td>\n",
       "      <td>2.359192</td>\n",
       "      <td>0.364767</td>\n",
       "      <td>0.398668</td>\n",
       "      <td>4.170065</td>\n",
       "    </tr>\n",
       "  </tbody>\n",
       "</table><p>"
      ],
      "text/plain": [
       "<IPython.core.display.HTML object>"
      ]
     },
     "metadata": {},
     "output_type": "display_data"
    },
    {
     "data": {
      "text/html": [],
      "text/plain": [
       "<IPython.core.display.HTML object>"
      ]
     },
     "metadata": {},
     "output_type": "display_data"
    },
    {
     "name": "stdout",
     "output_type": "stream",
     "text": [
      "Pseudo-labeled instance count per class:\n",
      "Class 0: 40 instances selected (out of 1050), Confidence range: 0.9643–0.9707\n",
      "Class 1: 40 instances selected (out of 1338), Confidence range: 0.8855–0.9123\n",
      "Class 2: 40 instances selected (out of 332), Confidence range: 0.9551–0.9701\n",
      "Class 3: 40 instances selected (out of 515), Confidence range: 0.8719–0.9351\n",
      "Class 4: 40 instances selected (out of 699), Confidence range: 0.9181–0.9591\n",
      "Class 5: 40 instances selected (out of 1066), Confidence range: 0.9307–0.9498\n",
      "Class 6: 40 instances selected (out of 1850), Confidence range: 0.9726–0.9760\n",
      "Class 7: 40 instances selected (out of 972), Confidence range: 0.9559–0.9670\n",
      "Class 8: 40 instances selected (out of 2014), Confidence range: 0.9726–0.9740\n",
      "Class 9: 40 instances selected (out of 2614), Confidence range: 0.9247–0.9442\n",
      "Class 10: 40 instances selected (out of 1664), Confidence range: 0.9339–0.9440\n",
      "Class 11: 40 instances selected (out of 762), Confidence range: 0.9507–0.9652\n",
      "Class 12: 40 instances selected (out of 1530), Confidence range: 0.9693–0.9739\n",
      "Class 13: 40 instances selected (out of 657), Confidence range: 0.9646–0.9692\n",
      "Class 14: 40 instances selected (out of 1735), Confidence range: 0.9393–0.9485\n",
      "\n",
      "Training set size after this round: 21800\n",
      "Remaining unlabeled examples after this round: 18198\n"
     ]
    },
    {
     "data": {
      "text/html": [],
      "text/plain": [
       "<IPython.core.display.HTML object>"
      ]
     },
     "metadata": {},
     "output_type": "display_data"
    },
    {
     "name": "stdout",
     "output_type": "stream",
     "text": [
      "Metrics on Filipino Validation Set: {'accuracy': 0.3647672552166934, 'f1': 0.3986676154162394, 'rmse': np.float64(4.170065494441229)}\n"
     ]
    },
    {
     "data": {
      "text/html": [],
      "text/plain": [
       "<IPython.core.display.HTML object>"
      ]
     },
     "metadata": {},
     "output_type": "display_data"
    },
    {
     "name": "stdout",
     "output_type": "stream",
     "text": [
      "Metrics on English validation Set: {'accuracy': 0.696, 'f1': 0.694937290834445, 'rmse': np.float64(3.3450859480736814)}\n",
      "\n",
      "SELF-LEARNING ITERATION 4/5\n"
     ]
    },
    {
     "name": "stderr",
     "output_type": "stream",
     "text": [
      "Some weights of BertForSequenceClassification were not initialized from the model checkpoint at bert-base-multilingual-cased and are newly initialized: ['classifier.bias', 'classifier.weight']\n",
      "You should probably TRAIN this model on a down-stream task to be able to use it for predictions and inference.\n",
      "Map: 100%|██████████| 21800/21800 [00:00<00:00, 21903.75 examples/s]\n",
      "C:\\Users\\User\\AppData\\Local\\Temp\\ipykernel_25352\\3903225634.py:4: FutureWarning: `tokenizer` is deprecated and will be removed in version 5.0.0 for `CustomTrainer.__init__`. Use `processing_class` instead.\n",
      "  super().__init__(*args, **kwargs)\n"
     ]
    },
    {
     "data": {
      "text/html": [
       "\n",
       "    <div>\n",
       "      \n",
       "      <progress value='2046' max='2046' style='width:300px; height:20px; vertical-align: middle;'></progress>\n",
       "      [2046/2046 2:47:08, Epoch 3/3]\n",
       "    </div>\n",
       "    <table border=\"1\" class=\"dataframe\">\n",
       "  <thead>\n",
       " <tr style=\"text-align: left;\">\n",
       "      <th>Epoch</th>\n",
       "      <th>Training Loss</th>\n",
       "      <th>Validation Loss</th>\n",
       "      <th>Accuracy</th>\n",
       "      <th>F1</th>\n",
       "      <th>Rmse</th>\n",
       "    </tr>\n",
       "  </thead>\n",
       "  <tbody>\n",
       "    <tr>\n",
       "      <td>1</td>\n",
       "      <td>1.497900</td>\n",
       "      <td>2.441643</td>\n",
       "      <td>0.309591</td>\n",
       "      <td>0.333653</td>\n",
       "      <td>4.294744</td>\n",
       "    </tr>\n",
       "    <tr>\n",
       "      <td>2</td>\n",
       "      <td>0.920400</td>\n",
       "      <td>2.474061</td>\n",
       "      <td>0.338684</td>\n",
       "      <td>0.369457</td>\n",
       "      <td>4.231347</td>\n",
       "    </tr>\n",
       "    <tr>\n",
       "      <td>3</td>\n",
       "      <td>0.693100</td>\n",
       "      <td>2.581924</td>\n",
       "      <td>0.343499</td>\n",
       "      <td>0.374995</td>\n",
       "      <td>4.243823</td>\n",
       "    </tr>\n",
       "  </tbody>\n",
       "</table><p>"
      ],
      "text/plain": [
       "<IPython.core.display.HTML object>"
      ]
     },
     "metadata": {},
     "output_type": "display_data"
    },
    {
     "data": {
      "text/html": [],
      "text/plain": [
       "<IPython.core.display.HTML object>"
      ]
     },
     "metadata": {},
     "output_type": "display_data"
    },
    {
     "name": "stdout",
     "output_type": "stream",
     "text": [
      "Pseudo-labeled instance count per class:\n",
      "Class 0: 40 instances selected (out of 884), Confidence range: 0.9518–0.9600\n",
      "Class 1: 40 instances selected (out of 1463), Confidence range: 0.9094–0.9270\n",
      "Class 2: 40 instances selected (out of 363), Confidence range: 0.9573–0.9704\n",
      "Class 3: 40 instances selected (out of 920), Confidence range: 0.9297–0.9547\n",
      "Class 4: 40 instances selected (out of 898), Confidence range: 0.9309–0.9644\n",
      "Class 5: 40 instances selected (out of 869), Confidence range: 0.9312–0.9504\n",
      "Class 6: 40 instances selected (out of 1572), Confidence range: 0.9709–0.9743\n",
      "Class 7: 40 instances selected (out of 1028), Confidence range: 0.9594–0.9675\n",
      "Class 8: 40 instances selected (out of 1824), Confidence range: 0.9739–0.9758\n",
      "Class 9: 40 instances selected (out of 2500), Confidence range: 0.9455–0.9595\n",
      "Class 10: 40 instances selected (out of 1773), Confidence range: 0.9510–0.9580\n",
      "Class 11: 40 instances selected (out of 831), Confidence range: 0.9503–0.9614\n",
      "Class 12: 40 instances selected (out of 1365), Confidence range: 0.9602–0.9684\n",
      "Class 13: 40 instances selected (out of 708), Confidence range: 0.9689–0.9756\n",
      "Class 14: 40 instances selected (out of 1200), Confidence range: 0.9306–0.9542\n",
      "\n",
      "Training set size after this round: 22400\n",
      "Remaining unlabeled examples after this round: 17598\n"
     ]
    },
    {
     "data": {
      "text/html": [],
      "text/plain": [
       "<IPython.core.display.HTML object>"
      ]
     },
     "metadata": {},
     "output_type": "display_data"
    },
    {
     "name": "stdout",
     "output_type": "stream",
     "text": [
      "Metrics on Filipino Validation Set: {'accuracy': 0.3434991974317817, 'f1': 0.3749950998116085, 'rmse': np.float64(4.2438228170752765)}\n"
     ]
    },
    {
     "data": {
      "text/html": [],
      "text/plain": [
       "<IPython.core.display.HTML object>"
      ]
     },
     "metadata": {},
     "output_type": "display_data"
    },
    {
     "name": "stdout",
     "output_type": "stream",
     "text": [
      "Metrics on English validation Set: {'accuracy': 0.6894, 'f1': 0.6888677507371139, 'rmse': np.float64(3.3746999866654814)}\n",
      "\n",
      "SELF-LEARNING ITERATION 5/5\n"
     ]
    },
    {
     "name": "stderr",
     "output_type": "stream",
     "text": [
      "Some weights of BertForSequenceClassification were not initialized from the model checkpoint at bert-base-multilingual-cased and are newly initialized: ['classifier.bias', 'classifier.weight']\n",
      "You should probably TRAIN this model on a down-stream task to be able to use it for predictions and inference.\n",
      "Map: 100%|██████████| 22400/22400 [00:01<00:00, 21820.56 examples/s]\n",
      "C:\\Users\\User\\AppData\\Local\\Temp\\ipykernel_25352\\3903225634.py:4: FutureWarning: `tokenizer` is deprecated and will be removed in version 5.0.0 for `CustomTrainer.__init__`. Use `processing_class` instead.\n",
      "  super().__init__(*args, **kwargs)\n"
     ]
    },
    {
     "data": {
      "text/html": [
       "\n",
       "    <div>\n",
       "      \n",
       "      <progress value='2100' max='2100' style='width:300px; height:20px; vertical-align: middle;'></progress>\n",
       "      [2100/2100 2:51:37, Epoch 3/3]\n",
       "    </div>\n",
       "    <table border=\"1\" class=\"dataframe\">\n",
       "  <thead>\n",
       " <tr style=\"text-align: left;\">\n",
       "      <th>Epoch</th>\n",
       "      <th>Training Loss</th>\n",
       "      <th>Validation Loss</th>\n",
       "      <th>Accuracy</th>\n",
       "      <th>F1</th>\n",
       "      <th>Rmse</th>\n",
       "    </tr>\n",
       "  </thead>\n",
       "  <tbody>\n",
       "    <tr>\n",
       "      <td>1</td>\n",
       "      <td>1.460000</td>\n",
       "      <td>2.495588</td>\n",
       "      <td>0.312801</td>\n",
       "      <td>0.348815</td>\n",
       "      <td>4.402730</td>\n",
       "    </tr>\n",
       "    <tr>\n",
       "      <td>2</td>\n",
       "      <td>0.895000</td>\n",
       "      <td>2.655610</td>\n",
       "      <td>0.333467</td>\n",
       "      <td>0.364908</td>\n",
       "      <td>4.288479</td>\n",
       "    </tr>\n",
       "    <tr>\n",
       "      <td>3</td>\n",
       "      <td>0.671700</td>\n",
       "      <td>2.767834</td>\n",
       "      <td>0.339286</td>\n",
       "      <td>0.371824</td>\n",
       "      <td>4.274960</td>\n",
       "    </tr>\n",
       "  </tbody>\n",
       "</table><p>"
      ],
      "text/plain": [
       "<IPython.core.display.HTML object>"
      ]
     },
     "metadata": {},
     "output_type": "display_data"
    },
    {
     "data": {
      "text/html": [],
      "text/plain": [
       "<IPython.core.display.HTML object>"
      ]
     },
     "metadata": {},
     "output_type": "display_data"
    },
    {
     "name": "stdout",
     "output_type": "stream",
     "text": [
      "Metrics on Filipino Validation Set: {'accuracy': 0.3392857142857143, 'f1': 0.3718241072539561, 'rmse': np.float64(4.274959754065107)}\n"
     ]
    },
    {
     "data": {
      "text/html": [],
      "text/plain": [
       "<IPython.core.display.HTML object>"
      ]
     },
     "metadata": {},
     "output_type": "display_data"
    },
    {
     "name": "stdout",
     "output_type": "stream",
     "text": [
      "Metrics on English validation Set: {'accuracy': 0.6906, 'f1': 0.689702525400022, 'rmse': np.float64(3.3487012407797745)}\n",
      "\n",
      "Best overall model was from iteration 1, epoch 3.0 with F1 = 0.4587\n"
     ]
    }
   ],
   "source": [
    "self_training_loop()"
   ]
  },
  {
   "cell_type": "markdown",
   "id": "18c0cf7d",
   "metadata": {},
   "source": [
    "### XLM-RoBERTa"
   ]
  },
  {
   "cell_type": "code",
   "execution_count": 80,
   "id": "efdf313e",
   "metadata": {},
   "outputs": [
    {
     "name": "stderr",
     "output_type": "stream",
     "text": [
      "Map: 100%|██████████| 20000/20000 [00:00<00:00, 25115.03 examples/s]\n",
      "Map: 100%|██████████| 19998/19998 [00:00<00:00, 21892.52 examples/s]\n",
      "Map: 100%|██████████| 4984/4984 [00:00<00:00, 14862.91 examples/s]\n",
      "Map: 100%|██████████| 5000/5000 [00:00<00:00, 25717.06 examples/s]\n"
     ]
    },
    {
     "name": "stdout",
     "output_type": "stream",
     "text": [
      "\n",
      "SELF-LEARNING ITERATION 1/5\n"
     ]
    },
    {
     "name": "stderr",
     "output_type": "stream",
     "text": [
      "Some weights of BertForSequenceClassification were not initialized from the model checkpoint at bert-base-multilingual-cased and are newly initialized: ['classifier.bias', 'classifier.weight']\n",
      "You should probably TRAIN this model on a down-stream task to be able to use it for predictions and inference.\n",
      "Map: 100%|██████████| 20000/20000 [00:00<00:00, 21648.30 examples/s]\n",
      "C:\\Users\\User\\AppData\\Local\\Temp\\ipykernel_25352\\3903225634.py:4: FutureWarning: `tokenizer` is deprecated and will be removed in version 5.0.0 for `CustomTrainer.__init__`. Use `processing_class` instead.\n",
      "  super().__init__(*args, **kwargs)\n"
     ]
    },
    {
     "data": {
      "text/html": [
       "\n",
       "    <div>\n",
       "      \n",
       "      <progress value='1875' max='1875' style='width:300px; height:20px; vertical-align: middle;'></progress>\n",
       "      [1875/1875 2:56:29, Epoch 3/3]\n",
       "    </div>\n",
       "    <table border=\"1\" class=\"dataframe\">\n",
       "  <thead>\n",
       " <tr style=\"text-align: left;\">\n",
       "      <th>Epoch</th>\n",
       "      <th>Training Loss</th>\n",
       "      <th>Validation Loss</th>\n",
       "      <th>Accuracy</th>\n",
       "      <th>F1</th>\n",
       "      <th>Rmse</th>\n",
       "    </tr>\n",
       "  </thead>\n",
       "  <tbody>\n",
       "    <tr>\n",
       "      <td>1</td>\n",
       "      <td>1.623100</td>\n",
       "      <td>1.836078</td>\n",
       "      <td>0.434791</td>\n",
       "      <td>0.444250</td>\n",
       "      <td>4.435375</td>\n",
       "    </tr>\n",
       "    <tr>\n",
       "      <td>2</td>\n",
       "      <td>1.008200</td>\n",
       "      <td>1.965006</td>\n",
       "      <td>0.421148</td>\n",
       "      <td>0.439205</td>\n",
       "      <td>4.353164</td>\n",
       "    </tr>\n",
       "    <tr>\n",
       "      <td>3</td>\n",
       "      <td>0.759900</td>\n",
       "      <td>1.953064</td>\n",
       "      <td>0.441011</td>\n",
       "      <td>0.458741</td>\n",
       "      <td>4.232366</td>\n",
       "    </tr>\n",
       "  </tbody>\n",
       "</table><p>"
      ],
      "text/plain": [
       "<IPython.core.display.HTML object>"
      ]
     },
     "metadata": {},
     "output_type": "display_data"
    },
    {
     "data": {
      "text/html": [],
      "text/plain": [
       "<IPython.core.display.HTML object>"
      ]
     },
     "metadata": {},
     "output_type": "display_data"
    },
    {
     "name": "stdout",
     "output_type": "stream",
     "text": [
      "Pseudo-labeled instance count per class:\n",
      "Class 0: 40 instances selected (out of 791), Confidence range: 0.9181–0.9498\n",
      "Class 1: 40 instances selected (out of 1616), Confidence range: 0.8163–0.8618\n",
      "Class 2: 40 instances selected (out of 371), Confidence range: 0.9357–0.9631\n",
      "Class 3: 40 instances selected (out of 79), Confidence range: 0.5519–0.9036\n",
      "Class 4: 40 instances selected (out of 143), Confidence range: 0.7109–0.9436\n",
      "Class 5: 40 instances selected (out of 769), Confidence range: 0.9213–0.9352\n",
      "Class 6: 40 instances selected (out of 2557), Confidence range: 0.9771–0.9798\n",
      "Class 7: 40 instances selected (out of 584), Confidence range: 0.9017–0.9551\n",
      "Class 8: 40 instances selected (out of 2159), Confidence range: 0.9700–0.9721\n",
      "Class 9: 40 instances selected (out of 3066), Confidence range: 0.8990–0.9256\n",
      "Class 10: 40 instances selected (out of 374), Confidence range: 0.6817–0.8714\n",
      "Class 11: 40 instances selected (out of 223), Confidence range: 0.7922–0.9358\n",
      "Class 12: 40 instances selected (out of 2375), Confidence range: 0.9615–0.9661\n",
      "Class 13: 40 instances selected (out of 647), Confidence range: 0.9577–0.9673\n",
      "Class 14: 40 instances selected (out of 4244), Confidence range: 0.9159–0.9294\n",
      "\n",
      "Training set size after this round: 20600\n",
      "Remaining unlabeled examples after this round: 19398\n"
     ]
    },
    {
     "data": {
      "text/html": [],
      "text/plain": [
       "<IPython.core.display.HTML object>"
      ]
     },
     "metadata": {},
     "output_type": "display_data"
    },
    {
     "name": "stdout",
     "output_type": "stream",
     "text": [
      "Metrics on Filipino Validation Set: {'accuracy': 0.4410112359550562, 'f1': 0.4587407732423319, 'rmse': np.float64(4.232365927978654)}\n"
     ]
    },
    {
     "data": {
      "text/html": [],
      "text/plain": [
       "<IPython.core.display.HTML object>"
      ]
     },
     "metadata": {},
     "output_type": "display_data"
    },
    {
     "name": "stdout",
     "output_type": "stream",
     "text": [
      "Metrics on English validation Set: {'accuracy': 0.6906, 'f1': 0.689478321905268, 'rmse': np.float64(3.421841609426129)}\n",
      "New best model found on iteration 1, epoch 3.0 with F1 = 0.4587\n",
      "\n",
      "SELF-LEARNING ITERATION 2/5\n"
     ]
    },
    {
     "name": "stderr",
     "output_type": "stream",
     "text": [
      "Some weights of BertForSequenceClassification were not initialized from the model checkpoint at bert-base-multilingual-cased and are newly initialized: ['classifier.bias', 'classifier.weight']\n",
      "You should probably TRAIN this model on a down-stream task to be able to use it for predictions and inference.\n",
      "Map: 100%|██████████| 20600/20600 [00:01<00:00, 13482.20 examples/s]\n",
      "C:\\Users\\User\\AppData\\Local\\Temp\\ipykernel_25352\\3903225634.py:4: FutureWarning: `tokenizer` is deprecated and will be removed in version 5.0.0 for `CustomTrainer.__init__`. Use `processing_class` instead.\n",
      "  super().__init__(*args, **kwargs)\n"
     ]
    },
    {
     "data": {
      "text/html": [
       "\n",
       "    <div>\n",
       "      \n",
       "      <progress value='1932' max='1932' style='width:300px; height:20px; vertical-align: middle;'></progress>\n",
       "      [1932/1932 3:00:58, Epoch 3/3]\n",
       "    </div>\n",
       "    <table border=\"1\" class=\"dataframe\">\n",
       "  <thead>\n",
       " <tr style=\"text-align: left;\">\n",
       "      <th>Epoch</th>\n",
       "      <th>Training Loss</th>\n",
       "      <th>Validation Loss</th>\n",
       "      <th>Accuracy</th>\n",
       "      <th>F1</th>\n",
       "      <th>Rmse</th>\n",
       "    </tr>\n",
       "  </thead>\n",
       "  <tbody>\n",
       "    <tr>\n",
       "      <td>1</td>\n",
       "      <td>1.545200</td>\n",
       "      <td>2.062803</td>\n",
       "      <td>0.368579</td>\n",
       "      <td>0.390707</td>\n",
       "      <td>4.268924</td>\n",
       "    </tr>\n",
       "    <tr>\n",
       "      <td>2</td>\n",
       "      <td>0.966400</td>\n",
       "      <td>2.140092</td>\n",
       "      <td>0.393459</td>\n",
       "      <td>0.424088</td>\n",
       "      <td>4.195895</td>\n",
       "    </tr>\n",
       "    <tr>\n",
       "      <td>3</td>\n",
       "      <td>0.734700</td>\n",
       "      <td>2.221549</td>\n",
       "      <td>0.388644</td>\n",
       "      <td>0.419401</td>\n",
       "      <td>4.130083</td>\n",
       "    </tr>\n",
       "  </tbody>\n",
       "</table><p>"
      ],
      "text/plain": [
       "<IPython.core.display.HTML object>"
      ]
     },
     "metadata": {},
     "output_type": "display_data"
    },
    {
     "data": {
      "text/html": [],
      "text/plain": [
       "<IPython.core.display.HTML object>"
      ]
     },
     "metadata": {},
     "output_type": "display_data"
    },
    {
     "name": "stdout",
     "output_type": "stream",
     "text": [
      "Pseudo-labeled instance count per class:\n",
      "Class 0: 40 instances selected (out of 1052), Confidence range: 0.9364–0.9512\n",
      "Class 1: 40 instances selected (out of 1414), Confidence range: 0.8041–0.8723\n",
      "Class 2: 40 instances selected (out of 294), Confidence range: 0.9271–0.9550\n",
      "Class 3: 40 instances selected (out of 234), Confidence range: 0.6925–0.9077\n",
      "Class 4: 40 instances selected (out of 628), Confidence range: 0.8531–0.9388\n",
      "Class 5: 40 instances selected (out of 1218), Confidence range: 0.8867–0.9269\n",
      "Class 6: 40 instances selected (out of 2029), Confidence range: 0.9681–0.9728\n",
      "Class 7: 40 instances selected (out of 647), Confidence range: 0.9143–0.9457\n",
      "Class 8: 40 instances selected (out of 2067), Confidence range: 0.9657–0.9686\n",
      "Class 9: 40 instances selected (out of 2677), Confidence range: 0.8742–0.9075\n",
      "Class 10: 40 instances selected (out of 1396), Confidence range: 0.8662–0.9031\n",
      "Class 11: 40 instances selected (out of 333), Confidence range: 0.8563–0.9255\n",
      "Class 12: 40 instances selected (out of 2049), Confidence range: 0.9511–0.9587\n",
      "Class 13: 40 instances selected (out of 699), Confidence range: 0.9481–0.9607\n",
      "Class 14: 40 instances selected (out of 2661), Confidence range: 0.9304–0.9400\n",
      "\n",
      "Training set size after this round: 21200\n",
      "Remaining unlabeled examples after this round: 18798\n"
     ]
    },
    {
     "data": {
      "text/html": [],
      "text/plain": [
       "<IPython.core.display.HTML object>"
      ]
     },
     "metadata": {},
     "output_type": "display_data"
    },
    {
     "name": "stdout",
     "output_type": "stream",
     "text": [
      "Metrics on Filipino Validation Set: {'accuracy': 0.39345906902086675, 'f1': 0.42408771241429094, 'rmse': np.float64(4.1958953419629355)}\n"
     ]
    },
    {
     "data": {
      "text/html": [],
      "text/plain": [
       "<IPython.core.display.HTML object>"
      ]
     },
     "metadata": {},
     "output_type": "display_data"
    },
    {
     "name": "stdout",
     "output_type": "stream",
     "text": [
      "Metrics on English validation Set: {'accuracy': 0.6866, 'f1': 0.6855292050832662, 'rmse': np.float64(3.4478108996869303)}\n",
      "\n",
      "SELF-LEARNING ITERATION 3/5\n"
     ]
    },
    {
     "name": "stderr",
     "output_type": "stream",
     "text": [
      "Some weights of BertForSequenceClassification were not initialized from the model checkpoint at bert-base-multilingual-cased and are newly initialized: ['classifier.bias', 'classifier.weight']\n",
      "You should probably TRAIN this model on a down-stream task to be able to use it for predictions and inference.\n",
      "Map: 100%|██████████| 21200/21200 [00:01<00:00, 14476.92 examples/s]\n",
      "C:\\Users\\User\\AppData\\Local\\Temp\\ipykernel_25352\\3903225634.py:4: FutureWarning: `tokenizer` is deprecated and will be removed in version 5.0.0 for `CustomTrainer.__init__`. Use `processing_class` instead.\n",
      "  super().__init__(*args, **kwargs)\n"
     ]
    },
    {
     "data": {
      "text/html": [
       "\n",
       "    <div>\n",
       "      \n",
       "      <progress value='1989' max='1989' style='width:300px; height:20px; vertical-align: middle;'></progress>\n",
       "      [1989/1989 3:06:26, Epoch 3/3]\n",
       "    </div>\n",
       "    <table border=\"1\" class=\"dataframe\">\n",
       "  <thead>\n",
       " <tr style=\"text-align: left;\">\n",
       "      <th>Epoch</th>\n",
       "      <th>Training Loss</th>\n",
       "      <th>Validation Loss</th>\n",
       "      <th>Accuracy</th>\n",
       "      <th>F1</th>\n",
       "      <th>Rmse</th>\n",
       "    </tr>\n",
       "  </thead>\n",
       "  <tbody>\n",
       "    <tr>\n",
       "      <td>1</td>\n",
       "      <td>1.534700</td>\n",
       "      <td>2.241271</td>\n",
       "      <td>0.342295</td>\n",
       "      <td>0.372288</td>\n",
       "      <td>4.415358</td>\n",
       "    </tr>\n",
       "    <tr>\n",
       "      <td>2</td>\n",
       "      <td>0.933800</td>\n",
       "      <td>2.334151</td>\n",
       "      <td>0.356340</td>\n",
       "      <td>0.386868</td>\n",
       "      <td>4.197736</td>\n",
       "    </tr>\n",
       "    <tr>\n",
       "      <td>3</td>\n",
       "      <td>0.700000</td>\n",
       "      <td>2.359192</td>\n",
       "      <td>0.364767</td>\n",
       "      <td>0.398668</td>\n",
       "      <td>4.170065</td>\n",
       "    </tr>\n",
       "  </tbody>\n",
       "</table><p>"
      ],
      "text/plain": [
       "<IPython.core.display.HTML object>"
      ]
     },
     "metadata": {},
     "output_type": "display_data"
    },
    {
     "data": {
      "text/html": [],
      "text/plain": [
       "<IPython.core.display.HTML object>"
      ]
     },
     "metadata": {},
     "output_type": "display_data"
    },
    {
     "name": "stdout",
     "output_type": "stream",
     "text": [
      "Pseudo-labeled instance count per class:\n",
      "Class 0: 40 instances selected (out of 1050), Confidence range: 0.9643–0.9707\n",
      "Class 1: 40 instances selected (out of 1338), Confidence range: 0.8855–0.9123\n",
      "Class 2: 40 instances selected (out of 332), Confidence range: 0.9551–0.9701\n",
      "Class 3: 40 instances selected (out of 515), Confidence range: 0.8719–0.9351\n",
      "Class 4: 40 instances selected (out of 699), Confidence range: 0.9181–0.9591\n",
      "Class 5: 40 instances selected (out of 1066), Confidence range: 0.9307–0.9498\n",
      "Class 6: 40 instances selected (out of 1850), Confidence range: 0.9726–0.9760\n",
      "Class 7: 40 instances selected (out of 972), Confidence range: 0.9559–0.9670\n",
      "Class 8: 40 instances selected (out of 2014), Confidence range: 0.9726–0.9740\n",
      "Class 9: 40 instances selected (out of 2614), Confidence range: 0.9247–0.9442\n",
      "Class 10: 40 instances selected (out of 1664), Confidence range: 0.9339–0.9440\n",
      "Class 11: 40 instances selected (out of 762), Confidence range: 0.9507–0.9652\n",
      "Class 12: 40 instances selected (out of 1530), Confidence range: 0.9693–0.9739\n",
      "Class 13: 40 instances selected (out of 657), Confidence range: 0.9646–0.9692\n",
      "Class 14: 40 instances selected (out of 1735), Confidence range: 0.9393–0.9485\n",
      "\n",
      "Training set size after this round: 21800\n",
      "Remaining unlabeled examples after this round: 18198\n"
     ]
    },
    {
     "data": {
      "text/html": [],
      "text/plain": [
       "<IPython.core.display.HTML object>"
      ]
     },
     "metadata": {},
     "output_type": "display_data"
    },
    {
     "name": "stdout",
     "output_type": "stream",
     "text": [
      "Metrics on Filipino Validation Set: {'accuracy': 0.3647672552166934, 'f1': 0.3986676154162394, 'rmse': np.float64(4.170065494441229)}\n"
     ]
    },
    {
     "data": {
      "text/html": [],
      "text/plain": [
       "<IPython.core.display.HTML object>"
      ]
     },
     "metadata": {},
     "output_type": "display_data"
    },
    {
     "name": "stdout",
     "output_type": "stream",
     "text": [
      "Metrics on English validation Set: {'accuracy': 0.696, 'f1': 0.694937290834445, 'rmse': np.float64(3.3450859480736814)}\n",
      "\n",
      "SELF-LEARNING ITERATION 4/5\n"
     ]
    },
    {
     "name": "stderr",
     "output_type": "stream",
     "text": [
      "Some weights of BertForSequenceClassification were not initialized from the model checkpoint at bert-base-multilingual-cased and are newly initialized: ['classifier.bias', 'classifier.weight']\n",
      "You should probably TRAIN this model on a down-stream task to be able to use it for predictions and inference.\n",
      "Map: 100%|██████████| 21800/21800 [00:01<00:00, 14913.65 examples/s]\n",
      "C:\\Users\\User\\AppData\\Local\\Temp\\ipykernel_25352\\3903225634.py:4: FutureWarning: `tokenizer` is deprecated and will be removed in version 5.0.0 for `CustomTrainer.__init__`. Use `processing_class` instead.\n",
      "  super().__init__(*args, **kwargs)\n"
     ]
    }
   ],
   "source": [
    "self_training_loop()"
   ]
  },
  {
   "cell_type": "markdown",
   "id": "a7e8d845",
   "metadata": {},
   "source": [
    "## **Investigating the Results**"
   ]
  },
  {
   "cell_type": "code",
   "execution_count": null,
   "id": "27bba031",
   "metadata": {},
   "outputs": [],
   "source": [
    "model_path = './results/sl_adv/xlm-roberta-base/iter_1/checkpoint-1875'\n",
    "\n",
    "tokenizer = AutoTokenizer.from_pretrained(model_path)\n",
    "model = AutoModelForSequenceClassification.from_pretrained(model_path)"
   ]
  },
  {
   "cell_type": "code",
   "execution_count": 94,
   "id": "1e0bb6dc",
   "metadata": {},
   "outputs": [
    {
     "name": "stderr",
     "output_type": "stream",
     "text": [
      "Some weights of BertForSequenceClassification were not initialized from the model checkpoint at bert-base-multilingual-cased and are newly initialized: ['classifier.bias', 'classifier.weight']\n",
      "You should probably TRAIN this model on a down-stream task to be able to use it for predictions and inference.\n",
      "Map: 100%|██████████| 22400/22400 [00:01<00:00, 14137.90 examples/s]\n",
      "C:\\Users\\User\\AppData\\Local\\Temp\\ipykernel_25352\\3903225634.py:4: FutureWarning: `tokenizer` is deprecated and will be removed in version 5.0.0 for `CustomTrainer.__init__`. Use `processing_class` instead.\n",
      "  super().__init__(*args, **kwargs)\n"
     ]
    }
   ],
   "source": [
    "fil_val_dataset = Dataset.from_pandas(fil_test_df).map(preprocess, batched=True)"
   ]
  },
  {
   "cell_type": "code",
   "execution_count": null,
   "id": "53d9ef5e",
   "metadata": {},
   "outputs": [
    {
     "name": "stdout",
     "output_type": "stream",
     "text": [
      "Metrics on Filipino Validation Set: {'accuracy': 0.3392857142857143, 'f1': 0.3718241072539561, 'rmse': np.float64(4.274959754065107)}\n"
     ]
    },
    {
     "data": {
      "text/html": [],
      "text/plain": [
       "<IPython.core.display.HTML object>"
      ]
     },
     "metadata": {},
     "output_type": "display_data"
    },
    {
     "name": "stdout",
     "output_type": "stream",
     "text": [
      "Metrics on English validation Set: {'accuracy': 0.6906, 'f1': 0.689702525400022, 'rmse': np.float64(3.3487012407797745)}\n",
      "\n",
      "Best overall model was from iteration 1, epoch 3.0 with F1 = 0.4587\n"
     ]
    }
   ],
   "source": [
    "self_training_loop()"
   ]
  },
  {
   "cell_type": "markdown",
   "id": "a7e8d845",
   "metadata": {},
   "source": [
    "## **Investigating the Results**"
   ]
  },
  {
   "cell_type": "code",
   "execution_count": null,
   "id": "27bba031",
   "metadata": {},
   "outputs": [],
   "source": [
    "model_path = \"./results/sl_adv/xlm-roberta-base/iter_1/checkpoint-1875\"  # or your specific path\n",
    "\n",
    "tokenizer = AutoTokenizer.from_pretrained(model_path)\n",
    "model = AutoModelForSequenceClassification.from_pretrained(model_path)"
   ]
  },
  {
   "cell_type": "code",
   "execution_count": null,
   "id": "1e0bb6dc",
   "metadata": {},
   "outputs": [],
   "source": [
    "fil_val_dataset = Dataset.from_pandas(fil_test_df).map(preprocess, batched=True)"
   ]
  },
  {
   "cell_type": "code",
   "execution_count": null,
   "id": "53d9ef5e",
   "metadata": {},
   "outputs": [],
   "source": [
    "trainer = Trainer(model=model, tokenizer=tokenizer)\n",
    "\n",
    "predictions = trainer.predict(fil_val_dataset)\n",
    "logits = predictions.predictions\n",
    "true_labels = predictions.label_ids"
   ]
  },
  {
   "cell_type": "code",
   "execution_count": null,
   "id": "fcaf62ad",
   "metadata": {},
   "outputs": [],
   "source": [
    "predicted_labels = np.argmax(logits, axis=1)\n",
    "\n",
    "report = classification_report(true_labels, predicted_labels, digits=4)\n",
    "print(report)"
   ]
  },
  {
   "cell_type": "code",
   "execution_count": null,
   "id": "4bd14eb5",
   "metadata": {},
   "outputs": [],
   "source": [
    "probs = F.softmax(torch.tensor(logits), dim=-1)\n",
    "confidence_scores = torch.max(probs, dim=1).values.numpy()\n",
    "\n",
    "eval_df = fil_val_dataset.to_pandas()\n",
    "\n",
    "eval_df['predicted_label'] = predicted_labels\n",
    "eval_df['match'] = eval_df['label'] == eval_df['predicted_label']\n",
    "eval_df['confidence'] = confidence_scores\n",
    "eval_df = eval_df.drop(columns=['code_frames', 'input_ids', 'attention_mask'])\n",
    "\n",
    "eval_df"
   ]
  },
  {
   "cell_type": "code",
   "execution_count": null,
   "id": "5c6a9c46",
   "metadata": {},
   "outputs": [],
   "source": [
    "eval_df.to_csv('datasets/results/xlm-r_adv1_results.csv')\n"
   ]
  }
 ],
 "metadata": {
  "kernelspec": {
   "display_name": ".venv",
   "language": "python",
   "name": "python3"
  },
  "language_info": {
   "codemirror_mode": {
    "name": "ipython",
    "version": 3
   },
   "file_extension": ".py",
   "mimetype": "text/x-python",
   "name": "python",
   "nbconvert_exporter": "python",
   "pygments_lexer": "ipython3",
   "version": "3.11.0"
  }
 },
 "nbformat": 4,
 "nbformat_minor": 5
}
